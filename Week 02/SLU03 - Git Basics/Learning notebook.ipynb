{
 "cells": [
  {
   "cell_type": "markdown",
   "metadata": {},
   "source": [
    "# SLU03 - Git Basics\n",
    "\n",
    "In this notebook we will be covering the following:\n",
    "\n",
    "* [1. (Painless) Introduction to Version Control](#1_Painless_Introduction_to_Version_Control)\n",
    "    - [1.1 So what is a Version Control System?](#1_1_So_what_is_a_Version_Control_System)\n",
    "    - [1.2 Collaboration](#1_2_Collaboration)\n",
    "    - [1.3 Storing versions properly](#1_3_Storing_versions_properly)\n",
    "    - [1.4 Auditability](#1_4_Auditability)\n",
    "* [2. Repositories: where it all begins](#2_Repositories_where_it_all_begins)\n",
    "    - [2.1 Creating a repository](#2_1_Creating_a_repository)\n",
    "    - [2.2 README](#2_2_README)\n",
    "    - [2.3 .gitignore](#2_3_gitignore)\n",
    "    - [2.4 Creating a repository not hosted on GitHub servers](#2_4_Creating_a_repository_not_hosted_on_GitHub_servers)\n",
    "* [3. Working with Git: the basics](#3_Working_with_Git_the_basics)\n",
    "    - [3.1 Main Git commands](#3_1_Main_Git_commands)\n",
    "        - [git add](#git_add)\n",
    "        - [git commit](#git_commit)\n",
    "        - [git push](#git_push)\n",
    "        - [git pull](#git_pull)\n",
    "        - [git status](#git_status)\n",
    "        - [git log](#git_log)\n",
    "* [4. Summary workflow](#4_Summary_workflow)\n",
    "* [5. GitHub and other Version Control Systems](#5_GitHub_and_other_Version_Control_Systems)\n",
    "* [Useful links](#Useful_links)\n",
    "\n",
    "We will be using the command line to interact with Git which is where you can run all existing Git commands. There are also GUI versions of Git, of varying capabilities."
   ]
  },
  {
   "cell_type": "markdown",
   "metadata": {},
   "source": [
    "## <a name=\"1_Painless_Introduction_to_Version_Control\"></a>1. (Painless) Introduction to Version Control\n",
    "\n",
    "**Imagine this scenario with me...**\n",
    "\n",
    "It's two AM and you've just finished your first programming project. Everything works, your \"*hello worlds*\" are all very hello'y, your *1*s and *0*s are all very *True* and *False*, and there's not a *ZeroDivisionError* to be seen in the land. Everything is wonderful and you go to sleep as a happy programmer, albeit a tired one... \n",
    "\n",
    "You wake up the next morning, relaxed and happy with no undereye bags to be seen on your lovely face. Your amazing programming project is due that afternoon and you go check if everything is running smoothly... but something terrible happened! All your beautiful code has been replaced by cat emojis! You look suspiciously at Whiskers who you once considered your four-legged furry best friend. You haven't given him as much attention as you should have lately, with all the late-night coding... And he just did you good. **Never trust a cat.**\n",
    "\n",
    "If only there was a way to \"*go back in time*\" and save all your precious work... \n",
    "\n",
    "**With version control there is!** \n",
    "\n",
    "*And all is good in the coding land!*"
   ]
  },
  {
   "cell_type": "markdown",
   "metadata": {},
   "source": [
    "### <a name=\"1_1_So_what_is_a_Version_Control_System\"></a>1.1 So what is a Version Control System?\n",
    "\n",
    "In short, [Version Control System (VCS)](https://en.wikipedia.org/wiki/Version_control) records changes to a file or set of files over time so that you can recall specific versions later.\n",
    "\n",
    "It allows you to revert selected files to a previous state, revert the entire project to a previous state, compare changes over time, see who last modified something that might be causing a problem, who introduced an issue and when, and more.\n",
    "\n",
    "There are a lot of decentralized services for VCS such as [GitHub](https://github.com/), [GitLab](https://about.gitlab.com/) and [Bitbucket](https://bitbucket.org/), and all of them rely on [Git](https://git-scm.com/), the VCS that is fueling all of these services and recording all the changes. FYI: Git is free and open-source meaning that there are no barriers to take advantage of it. :)\n",
    "\n",
    "You noticed that all of our [Prep Course Material](https://github.com/LDSSA/ds-prep-course-2021) is hosted on GitHub. This makes **our** lives easier as all changes to the learning materials are being tracked, and also who made them, and it also makes **your** life easier when accessing the materials."
   ]
  },
  {
   "cell_type": "markdown",
   "metadata": {},
   "source": [
    "Saving your work from evil cats is not the only reason VCS is useful. There are three main reasons why VCS are used: \n",
    "* collaboration, \n",
    "* storing versions properly,\n",
    "* auditability. \n",
    "\n",
    "Let's try to understand all of them."
   ]
  },
  {
   "cell_type": "markdown",
   "metadata": {},
   "source": [
    "### <a name=\"1_2_Collaboration\"></a>1.2 Collaboration\n",
    "Remember when you were editing a text document with 10 other people at the same time? In the end, it was a mess of differently colored crossed out lines. Version control systems were developed to solve the problem of **multiple people working on the same code at the same time**. Each person works on their own copy and when they're done, the changes are merged back to the original file, resolving conflicts along the way. You will learn more about this in SLU05.\n",
    "\n",
    "![image](media/git_collaboration.png)\n",
    "\n",
    "While you'll be working on your own in the prep course, it is still important for you to know how Git facilitates the development process when multiple people are involved. In the industry, almost no developer works alone (*thankfully!*)."
   ]
  },
  {
   "cell_type": "markdown",
   "metadata": {},
   "source": [
    "### <a name=\"1_3_Storing_versions_properly\"></a>1.3 Storing versions properly\n",
    "<img width=\"400\" src=\"https://www.groovecommerce.com/hs-fs/hub/188845/file-4063238065-png/blog-files/version-control-comic.png\"/>"
   ]
  },
  {
   "cell_type": "markdown",
   "metadata": {},
   "source": [
    "**Is this a familiar scenario to you?** Imagine this but with many *many* files in a software program... Words are not enough to explain the utter horror of such an event... Worse... Imagine collaborating on a software project *over email*.  (>_<) \n",
    "\n",
    "Saving a version of your project after making changes is an essential habit. In VCS, we call this a **commit**. Just like in an old-school videogame, when you feel you have made some progress and a boss around the corner might take you down, you save your game. The same logic applies to a **commit**. \n",
    "\n",
    "(*Note for your future self who will thank me later: don't commit broken or unfinished work. Your future self will have zero clues about what the heck was going on back when you commmitted your code...*)\n",
    "\n",
    "Another important feature of the **commit**, which we will revisit later on, is that it asks you for a message. This is to help your future self, and others collaborating with you, know what is going on. A succint but clear message about the changes that were made is a very good practice (and a mandatory one!). \n",
    "\n",
    "In the end, when using a VCS, because everything is being stored on a server (such as GitHub), you only have **one** version of the project that you're currently working on on your disk. Everything else - all the past versions and variants - is neatly packed inside the VCS. When/if you need them, you can request any version at any time, and you'll have a snapshot of the complete project right at hand, including the history of all the changes done thus far."
   ]
  },
  {
   "cell_type": "markdown",
   "metadata": {},
   "source": [
    "### <a name=\"1_4_Auditability\"></a>1.4 Auditability\n",
    "\n",
    "When you're working with a team on a single project, sometimes it gets hard to know \"who did what\". VCS offers you an easy way to track \"who made what change and when\". It unlocks the ability to:\n",
    "- Debug more effectively by finding when a breaking change was introduced\n",
    "- Track the reason why certain changes were made\n",
    "- Find the person who made a change and ask them why they did it (not with violence, but with love!)"
   ]
  },
  {
   "cell_type": "markdown",
   "metadata": {},
   "source": [
    "<img width=\"600\" src=\"https://miro.medium.com/max/1400/1*wQ2mtIZHzVkJ0Y2suuVGpQ.jpeg\">"
   ]
  },
  {
   "cell_type": "markdown",
   "metadata": {},
   "source": [
    "## <a name=\"2_Repositories_where_it_all_begins\"></a>2. Repositories: where it all begins\n",
    "\n",
    "A repository is simply a **place that stores and tracks changes to the files contained in it**. It associates identities with changes to those files. \n",
    "\n",
    "Take a look at [a familiar repository](https://github.com/LDSSA/ds-prep-course-2022):\n",
    "![image](media/repo_example.png)"
   ]
  },
  {
   "cell_type": "markdown",
   "metadata": {},
   "source": [
    "This is the Prep Course public repository, from where all of you pull the SLUs every week. Under the hood, our lovely instructors (shown in **contributors**) work really hard to make the SLUs available to you every week. You can see that at the time of the creation of this Learning Notebook, **12 commits** had already been **pushed** (meaning saved) to the Prep Course repository, but more on this later."
   ]
  },
  {
   "cell_type": "markdown",
   "metadata": {},
   "source": [
    "### <a name=\"2_1_Creating_a_repository\"></a>2.1 Creating a repository\n",
    "\n",
    "Congrats! You may not have realized it at the time, but you've already created a repository by following these instructions: https://github.com/LDSSA/ds-prep-course-2022#12-setup-git-and-github. \n",
    "\n",
    "When you followed these steps, you've:\n",
    "- Installed Git, a VCS\n",
    "- Created an account on GitHub, a development platform that implements Git\n",
    "- Set up your own (private) repository to save your progress throughout the Prep Course\n",
    "- Cloned the Prep Course repository to access the materials\n",
    "\n",
    "You're basically a master at this already!\n",
    "\n",
    "Now, you'll learn a little bit more about the README file and the .gitignore file."
   ]
  },
  {
   "cell_type": "markdown",
   "metadata": {},
   "source": [
    "### <a name=\"2_2_README\"></a>2.2. README\n",
    "\n",
    "The **README** is probably **the single most important document in a repository**. It is the starting point by which when someone arrives at the repo, they know what the repository is all about and what they should do next. It is the documentation of the repo. It uses [Markdown](https://en.wikipedia.org/wiki/Markdown) (which you have learned in the Jupyter Notebook SLU). The .md extension identifies markdown files.\n",
    "\n",
    "(*Fun fact: this notebook is also written in markdown!*)\n"
   ]
  },
  {
   "cell_type": "markdown",
   "metadata": {},
   "source": [
    "### <a name=\"2_3_gitignore\"></a>2.3 .gitignore\n",
    "<img width=\"600\" src=\"https://imgur.com/VmhvbAt.jpeg\">"
   ]
  },
  {
   "cell_type": "markdown",
   "metadata": {},
   "source": [
    "The **.gitignore** is a special file that contains information about the files, file types, and/or directories in your git repo that you **do not want to track automatically** (*just like that poor dude is being ignored, so will these files/directories*). \n",
    "\n",
    "It's very easy to accidentally commit a file that you never intended to make available in the repository (especially if you use `git add .` to stage all files in the current directory). That's where a .gitignore file comes in handy! It lets Git know that it should ignore certain files and not track them.\n",
    "\n",
    "So, which files would you normally not want to track?\n",
    "- Any file with more than 2 MB, so always include the dataset that you're using\n",
    "- Log files\n",
    "- Files with API keys/secrets, credentials, or sensitive information\n",
    "- Useless system files such as the annoying mac .DS_store\n",
    "- Dependencies which can be downloaded from a package manager. They already have their own VC systems and you only need a particular version of it. No need to do their job for them and track their changes!\n",
    "\n",
    "There's a nice website which tells you what to ignore depending on your operating system, text editor or IDE, languages, and frameworks: https://www.gitignore.io/. Another good source of .gitignore examples is GitHub: https://github.com/github/gitignore\n",
    "\n",
    "Additionally, when setting up a repository, GitHub allows you to add a pre-set .gitignore file depending on the language you're using (Python, R, C...). Very handy!\n",
    "\n",
    "To include files in the .gitignore, just type the name of the file. The same thing for directories, except that directories should end with a slash (/). \n",
    "\n",
    "**Ignoring any file with a given extension:**\n",
    "Some slightly more advanced ways of excluding files make use of the wildcard (`*`). The wildcard matches 0 or more characters. So, for example, if you want to exclude every .log file you would include *.log in your .gitignore. \n",
    "\n",
    "However, when using this rule, you may end up ignoring a specific file that you want to commit, e.g. you may want to commit a specific log named important.log and exclude all the others. If that happens, you can use a `!` to specifically negate a file that would be ignored. Our .gitignore would be like:\n",
    "\n",
    "    *.log\n",
    "    !important.log\n",
    "\n",
    "(*Note: The negation must be placed after the rule from which you're excluding the file*)  "
   ]
  },
  {
   "cell_type": "markdown",
   "metadata": {},
   "source": [
    "### <a name=\"2_4_Creating_a_repository_not_hosted_on_GitHub_servers\"></a>2.4 Creating a repository not hosted on GitHub servers\n",
    "\n",
    "This is what you know until now:\n",
    "- How to create a repo in GitHub\n",
    "- How to create a README and understand why it is important\n",
    "- How to create a .gitignore and add files that you don't want to see committed\n",
    "\n",
    "But what if you wanted to benefit from the advantages of a version control system, but you don't want the content of your work to be hosted on GitHub servers?\n",
    "Imagine this: you're a writer and you're working on your new book. For obvious reasons you don't want the draft version of your book to be public, but actually you're not even interested in sharing it with anyone at this stage, so not even a private repo makes sense.\n",
    "Imagine that you delete some text as you're writing because you don't like it. But in the future, you often find yourself wanting to bring that text back. You know you can do that with a version control system, but you don't want neither a private or a public repository. What do you do?\n",
    "Luckily for you, there's a way to create a repo on your machine without hosting it on GitHub. Let's see how:\n",
    "- Open the terminal and go to the folder that contains the files you would like to track\n",
    "- Run `git init --bare`. The bare option is crucial as by default git will create a repository with a remote server. So, you have to use it if you want to keep everything locally.\n",
    "- Run `git remote add origin <path to the folder>`. This command will create a local repository, which is something that you'll learn about in the next section of this SLU :) You can get the path to the folder by running the `pwd` command while you're inside the folder. \n",
    "- Run `git checkout -b main`. You'll only learn about branches in the SLU05 so for now don't think too much about this command :)\n",
    "\n",
    "And done! Whenever you feel like using the advantages of a Version Control System but you don't want to host anything on GitHub, you now know how to! "
   ]
  },
  {
   "cell_type": "markdown",
   "metadata": {},
   "source": [
    "## <a name=\"3_Working_with_Git_the_basics\"></a>3. Working with Git: the basics\n",
    "\n",
    "So... This is how Git works! Looks pretty confusing, right?\n",
    "\n",
    "![image](media/git_spaces.png)"
   ]
  },
  {
   "cell_type": "markdown",
   "metadata": {},
   "source": [
    "Let's break this diagram into parts, using the concepts that we've already acquired in this SLU. And remember, you've already done most of this stuff!"
   ]
  },
  {
   "cell_type": "markdown",
   "metadata": {},
   "source": [
    "The **remote repository** is the GitHub repository that is hosted on the GitHub servers. The first question you may ask is: **why do we need a workspace and a local repository? And why is there a staging area in between them?**\n",
    "\n",
    "You can think about it as building a photo album. The world around you is changing (the workspace), you take snapshots of it and store them in a box (staging area) to later paste them into the photo album (the local repository). The snapshots pasted in the photo album are there forever. Whether the snapshots in the box land in the photo album or not is still up to your decision. You also decide which of them will be pasted together.\n",
    "\n",
    "In more technical terms:\n",
    "\n",
    "- The **workspace** consists of files that you are currently working on. You can think of the workspace as a file system where you can view and modify files. \n",
    "- The **staging area** is where commits are prepared. It basically represents the snapshots of files taken at a given time that you plan to move to the local repository. The staging area allows you to group file snapshots that should be committed together because the changes you made in them are somehow related. You can always change your mind and decide not to commit a certain snapshot by removing it from the staging area. The staging area can also be referred to as **index** because the list that contains the file snapshots is stored in a file named index\n",
    "- The **local repository** holds all the **commits** — snapshots of files at a point in time. Once the file snapshots are committed to the local repository they disappear from the staging area. These snapshots are permanent and show the history of how each file was changing. You can access the previous file versions if you want. It's a good idea to create small and frequent commits so that it’s easy to track down bugs and revert changes with minimal impact on the rest of the project."
   ]
  },
  {
   "cell_type": "markdown",
   "metadata": {},
   "source": [
    "The **basic Git workflow** goes something like this:\n",
    "1. You modify files in your working tree.\n",
    "2. You selectively stage just those changes that you want to be part of your next commit.\n",
    "3. You do a commit, which takes the files as they are in the staging area and stores those versions permanently to your local repository.\n",
    "4. You again start modifying your files and the cycle continues... That's Git *circle of life* for files!\n",
    "\n",
    "\n",
    "    \n",
    "It is also possible to skip the staging area and directly commit the files to the local repository, we will talk about this later. Git tracks all the files in the workspace that were staged or committed sometime in the past and notices if they were changed since the last staging or commit. It also shows you the state of each file in the Git life cycle. Go on to the next section to learn more about this!"
   ]
  },
  {
   "cell_type": "markdown",
   "metadata": {},
   "source": [
    "### <a name=\"3_1_Main_Git_commands\"></a>3.1 Main Git commands\n",
    "We will now look at the six most frequent Git commands that move the files through the Git circle of life, steer the traffic between the local and remote repositories, and inform you about the status of your files: add, commit, push, pull, status, and log."
   ]
  },
  {
   "cell_type": "markdown",
   "metadata": {},
   "source": [
    "### <a name=\"git_add\"></a>`git add`\n",
    "\n",
    "<img width=\"500\" src=\"https://imgur.com/Qit7nJ2.png\"/>\n",
    "\n",
    "The `git add` command adds snapshots of selected files in the working directory to the staging area. It tells Git that you want to include the current version of these files in the next commit. \n",
    "\n",
    "In **Step 5** of the [guide to the learning materials](https://github.com/LDSSA/ds-prep-course-2022#22---working-on-the-learning-units), we ask you to stage all changes with the `git add .` command. \n",
    "\n",
    "Useful command options:\n",
    "- `git add <file>` stages a snapshot of the given file for the next commit.\n",
    "- `git add <file1> <file2>` stages the snapshots of these two files for the next commit. You can include more than two files.\n",
    "- `git add <directory>` stages a snapshot of the directory for the next commit.\n",
    "- `git add .` stages **everything** in your current directory for the next commit."
   ]
  },
  {
   "cell_type": "markdown",
   "metadata": {},
   "source": [
    "### <a name=\"git_commit\"></a>`git commit `\n",
    "\n",
    "<img width=\"500\" src=\"https://imgur.com/Dh1vMsm.png\"/>"
   ]
  },
  {
   "cell_type": "markdown",
   "metadata": {},
   "source": [
    "By now you already know what this command does, it simply stores the snapshots of the files that you have in the staging area to the local repository. The command launches the editor of your choice where you need to type the commit message:\n",
    "\n",
    "![image](media/git_commit.png)\n"
   ]
  },
  {
   "cell_type": "markdown",
   "metadata": {},
   "source": [
    "Afterwards, type *ctrl + X* to exit, type *Y* to save the changes, then type *Enter* to confirm the commit file name. If you want to avoid this process, you can write your commit message directly on the `git commit` command, like this: `git commit -m \"commit message\"`.\n",
    "\n",
    "In **Step 5** of the [guide to the learning materials](https://github.com/LDSSA/ds-prep-course-2022#22---working-on-the-learning-units), we ask you to commit your resolved notebook with the command `git commit -m \"Exercises for Week <week number>\"`, where you substitute the `<week number>` by the corresponding value. Adding an explicit message to the commit will make your life easier down the road to trace back to where you were at the time. \n",
    "\n",
    "Other useful command options:\n",
    "- `git commit -a` will check if the files in the staging area have changed after being staged and if so, restage them. Then all staged files are committed.\n",
    "- `git commit --amend` modifies the last commit so that currently staged files will be added to it."
   ]
  },
  {
   "cell_type": "markdown",
   "metadata": {},
   "source": [
    "### <a name=\"git_push\"></a>`git push`\n",
    "![image](media/git_push.png)\n",
    "\n",
    "The `git push` command is used to upload local repository content to a remote repository. Pushing is how you transfer commits from your local repository to a remote repo. The push will share the modifications you made with remote team members.\n",
    "\n",
    "In **Step 5** of the [guide to the learning materials](https://github.com/LDSSA/ds-prep-course-2022#22---working-on-the-learning-units), you finish with the `git push` command to send all your changes to your working repository.\n",
    "\n",
    "This command only works if you cloned from a server to which you have write access and if nobody has pushed in the meantime. If you and someone else clone at the same time and they push upstream and then you push upstream, your push will rightly be rejected. You’ll have to fetch their work first and incorporate it into yours before you’ll be allowed to push. More details on this in SLU05."
   ]
  },
  {
   "cell_type": "markdown",
   "metadata": {},
   "source": [
    "### <a name=\"git_pull\"></a>`git pull`\n",
    "![image](media/git_pull.png)\n",
    "\n",
    "The `git pull` command is used to fetch and download content from a remote repository and immediately update the local repository to match that content. It’s an easy way to synchronize your local repository with upstream changes. In a way, the opposite of the `git push` command.\n",
    "\n",
    "We asked in [the guide of week 00](https://github.com/LDSSA/ds-prep-course-2022#21-weekly-setup---get-the-learning-materials) to start the set-up of the learning materials with a `git pull` of the [ds-prep-course-2022](https://github.com/LDSSA/ds-prep-course-2022). You already had to do it again for **Week 01 and Week 02** when you followed the [basic workflow to update the learning units](https://github.com/LDSSA/ds-prep-course-2022#3-updates-to-learning-units), so you're already very familiar with this command.\n",
    "\n",
    "Sometimes conflicts arise when you have files conflicting with the remote repository, but don't worry about it now. We'll learn how to solve those in SLU05!"
   ]
  },
  {
   "cell_type": "markdown",
   "metadata": {},
   "source": [
    "### <a name=\"git_status\"></a>`git status`\n",
    "\n",
    "The `git status` command is very straightforward. It lets you see the status of the files in your workspace and the staging area. The files in these two areas have 4 possible states:\n",
    "\n",
    "- **New**: files in the staging area that were not committed before in this workspace (newly tracked)\n",
    "- **Modified**: tracked files in the workspace or staging area that have changed since you last staged or committed them\n",
    "- **Unmodified**: tracked files in the workspace or staging area that were not changed since you last staged or committed them\n",
    "- **Untracked**: files that were not yet staged or committed in this workspace, e.g newly created files\n",
    "\n",
    "In a graphical way - remember the Git circle of life?\n",
    "\n",
    "![image](media/git_circle_of_life.png)\n"
   ]
  },
  {
   "cell_type": "markdown",
   "metadata": {},
   "source": [
    "The image bellow shows an example of running a `git status` command where: \n",
    "- the README.md file is newly staged (it was untracked before and was staged just now - notice the git add command in the previous line)\n",
    "- all other files are untracked\n",
    "\n",
    "![image](media/git_status_0.png)"
   ]
  },
  {
   "cell_type": "markdown",
   "metadata": {},
   "source": [
    "Example of modifying a staged file:\n",
    "\n",
    "![image](media/git_status_1.png)\n",
    "\n",
    "Here we have staged the Learning notebook.ipynb file, then modified it. Notice that the file appears both in the staging area and the workspace - these are different versions/snapshots of the same file!"
   ]
  },
  {
   "cell_type": "markdown",
   "metadata": {},
   "source": [
    "Example of git status after staging the modified Learning notebook and committing:\n",
    "\n",
    "![image](media/git_status_2.png)\n",
    "\n",
    "There are no modified files and nothing in the staging area."
   ]
  },
  {
   "cell_type": "markdown",
   "metadata": {},
   "source": [
    "Bonus commands:\n",
    "\n",
    "You may have noticed two more more git commands in the git status output: reset and checkout.\n",
    "- `git reset HEAD <file>` unstages a file\n",
    "- `git checkout -- <file>` will undo the changes to a file in the workspace you've made after staging - be careful with this command to avoid losing data"
   ]
  },
  {
   "cell_type": "markdown",
   "metadata": {},
   "source": [
    "### <a name=\"git_log\"></a>`git log`\n",
    "\n",
    "The `git log` command shows the contents of the Git log file - the commit history of the local repo. The log file will help you in case you need to revert to a previous commit, something that you'll also learn in the next Git SLU! For now, see what the output of a `git log` command looks like:\n",
    "\n",
    "<img width=\"700\" src=\"https://imgur.com/Ys9IF79.png\"/>\n",
    "\n",
    "Each commit has a unique identifier and you can see its author, date, and commit message. There is more information in the log file that you can get with different command options. To exit the log, type q.\n",
    "\n",
    "Other useful command options:\n",
    "- `git log -n <limit>` shows the last n commits. For example, `git log -n 3` will display only the last 3 commits.\n",
    "- `git log -- stat` includes the information about which files were altered and the number of lines that were added or deleted from each of them.\n",
    "- `git log --author=\"<pattern>\"` filters the commits by the person who made changes in the committed files. For those of you who are familiar with regular expressions, you can also use a regular expression instead of a string.\n",
    "- `git log --grep=\"<pattern>\"` filters the commits by searching for a specific pattern in the commit message. One example would be to filter commits that mention a specific detail you're interested in. Again, you can search for a string or use a regular expression.\n",
    "- `git log <file>` shows only the commits that include the specified file."
   ]
  },
  {
   "cell_type": "markdown",
   "metadata": {},
   "source": [
    "## <a name=\"4_Summary_workflow\"></a>4. Summary workflow\n",
    "\n",
    "Now you know what each command does. The **git status, add, and commit** can be chained in a workflow that makes sense.\n",
    "\n",
    "A typical use-case would be:\n",
    "- use `git status` to check for any modified files, \n",
    "- use `git add` to stage the modified files, then `git status` again to check that those files are now staged \n",
    "- use `git commit -m <commit message>` to commit them\n",
    "- finally, use `git push` to send all our changes to the remote repository\n",
    "\n",
    "So now you know how to chain these commands in a way that makes sense! With experience, you may end up dropping one or both the git status commands as you'll intuitively know in which states your files are, but it's always ok to do a check once in a while. "
   ]
  },
  {
   "cell_type": "markdown",
   "metadata": {},
   "source": [
    "<img width=\"500\" src=\"https://imgs.xkcd.com/comics/git_2x.png\"/>"
   ]
  },
  {
   "cell_type": "markdown",
   "metadata": {},
   "source": [
    "## <a name=\"5_GitHub_and_other_Version_Control_Systems\"></a>5. GitHub and other Version Control Systems\n",
    "\n",
    "Git differs from many other version control systems in that it stores snapshots of files at a given time instead of just storing the changes. It is a distributed control system - the whole repository is copied (cloned) to your PC, so that you can work offline. It is also lightweight and very fast."
   ]
  },
  {
   "cell_type": "markdown",
   "metadata": {},
   "source": [
    "So that's it! Hope you've enjoyed this Learning Notebook and please take your time to assimilate all the concepts. The Exercise Notebook consists of multiple choice questions, so it's really important that you have a good grasp of everything before starting it. **Good luck!**"
   ]
  },
  {
   "cell_type": "markdown",
   "metadata": {},
   "source": [
    "<a name=\"Useful_links\"></a>**Useful links:**\n",
    "\n",
    "Pro Git book by Scott Chacon and Ben Straub https://git-scm.com/book/en/v2 - currently available in 14 languages and translations started for other 15 languages"
   ]
  }
 ],
 "metadata": {
  "kernelspec": {
   "display_name": "Python 3 (ipykernel)",
   "language": "python",
   "name": "python3"
  },
  "language_info": {
   "codemirror_mode": {
    "name": "ipython",
    "version": 3
   },
   "file_extension": ".py",
   "mimetype": "text/x-python",
   "name": "python",
   "nbconvert_exporter": "python",
   "pygments_lexer": "ipython3",
   "version": "3.7.10"
  }
 },
 "nbformat": 4,
 "nbformat_minor": 4
}
