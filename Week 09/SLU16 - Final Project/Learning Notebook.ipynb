{
 "cells": [
  {
   "cell_type": "markdown",
   "metadata": {},
   "source": [
    "# Final Project - Minesweeper Game"
   ]
  },
  {
   "cell_type": "markdown",
   "metadata": {},
   "source": [
    "## The game\n",
    "\n",
    "Minesweeper is a single-player puzzle video game. The objective of the game is to clear a rectangular board containing hidden \"mines\" or bombs without detonating any of them, with help from clues about the number of neighboring mines in each field. The game originates from the 1960s, and it has been written for many computing platforms in use today. It has many variations and offshoots.\n",
    "![https://i.imgur.com/wTinaRH.png](https://i.imgur.com/wTinaRH.png)\n",
    "\n",
    "\n",
    "### Gameplay\n",
    "A game of Minesweeper begins when the player makes the first click on a board with all cells unopened. This click is guaranteed to be safe with some variants further guaranteeing that all adjacent cells are safe as well. During the game, the player uses information given from the opened cells to deduce further cells that are safe to open, iteratively gaining more information to solve the board. The player is also given the number of remaining mines in the board, known as the minecount, which is calculated as the total number of mines subtracted by the number of flagged cells (note that because of this, the minecount can be negative). The minecount is mainly useful when there are only a few remaining mines.\n",
    "\n",
    "Frequently when playing the game, the player encounters situations when they cannot deduce any further safe cells from the information given so they would need to make a guess. Some variants of Minesweeper ensure that the board can be solved without the need to guess.\n",
    "\n",
    "To win the game, players must open all non-mine cells while not opening any mines. **Flagging all the mined cells is not required.**\n",
    "\n",
    "The \"score\" of the game is the time taken to complete it. The timer starts when the player makes their first click and ends when they make their last click.\n",
    "\n",
    "\n",
    "### History\n",
    "\n",
    "Minesweeper has its origins in the earliest mainframe games of the 1960s and 1970s. The earliest ancestor of Minesweeper was Jerimac Ratliff's Cube. The basic gameplay style became a popular segment of the puzzle video game genre during the 1980s, with titles such as Mined-Out (Quicksilva, 1983), Yomp (Virgin Interactive, 1983), and Cube. Cube was succeeded by Relentless Logic (or RLogic for short), by Conway, Hong, and Smith, available for MS-DOS as early as 1985.\n",
    "\n",
    "First appearing in a game pack for Microsoft in 1990, a version of the game called Microsoft Minesweeper was released as a standard part of Windows 3.1 in 1992. This saw an explosion in popularity and awareness of the game, with tech bloggers and journalists calling it \"iconic\", \"famous\", and even \"the most successful game ever\". Versions of the game continued to be included in standard installs of Windows up through Windows Vista in 2007, though in Windows 8 (2012) and later, it must be downloaded as an app from the Microsoft Store.\n",
    "\n",
    "Since 2019, if you **simply Google the word Minesweeper**, you’ll be greeted with a search result that will give you a pop-out, web-based version of the game! You can set it to easy, medium, or hard depending on how much you want to be tortured. Alternatively, you can access Google’s version directly at [this link](https://www.google.com/fbx?fbx=minesweeper). \n",
    "\n",
    "![https://chromeunboxed.com/wp-content/uploads/2022/03/Screenshot-2022-03-01-2.36.50-PM.png](https://chromeunboxed.com/wp-content/uploads/2022/03/Screenshot-2022-03-01-2.36.50-PM.png)\n",
    "![https://chromeunboxed.com/wp-content/uploads/2022/03/Screenshot-2022-03-01-2.37.44-PM.png](https://chromeunboxed.com/wp-content/uploads/2022/03/Screenshot-2022-03-01-2.37.44-PM.png)\n"
   ]
  },
  {
   "cell_type": "markdown",
   "metadata": {},
   "source": [
    "## The Project\n",
    "The objective of this project is to **implement the Minesweeper game**. You will not need to worry about all the details, we will give you the code that allows you to interact with the screen, you just need to fill part the logic of the game.\n",
    "\n",
    "The code that you will need to write are only a few lines, the purpose of this project is to show you how a software project is organized and what are the good practices of a software project."
   ]
  },
  {
   "cell_type": "markdown",
   "metadata": {},
   "source": [
    "## Requirements on Windows (WSL)\n",
    "Before we start, if you are using Windows (WSL) you will need to install VcXsrc, following the steps bellow. VcXsrc is an implementation of a X11 server, which essentially tells pygame this:\n",
    "- Please direct anything you were going to send to the screen to me! (we need this because WSL has no screen! we can only interact with it through a terminal)\n",
    "- When i click here or hover the mouse there, i’m going to send you that information and you can do whatever you want with it (we need this because, again, WSL has no screen)\n",
    "This essentially allows you to have server running (such as WSL or a computer in AWS), run a GUI application in it (such as pygame or a web browser) and interact with it on your local machine.\n",
    "\n",
    "\n",
    "    \n",
    "## Download VcXsrv\n",
    "\n",
    "1. [Click here to download VcXsrv](https://sourceforge.net/projects/vcxsrv/files/latest/download)\n",
    "    the download should start.\n",
    "\n",
    "## Run VcXsrv\n",
    "1. Open the file you just downloaded\n",
    "2. Proceed with the installation (you can just accept and leave everything on defaults).\n",
    "\n",
    "    ![install](https://i.imgur.com/m8VHBso.png)\n",
    "\n",
    "3. Once the installation is finished, type `xlaunch` on your Windows search bar, then open it\n",
    "\n",
    "    ![xlaunch](https://i.imgur.com/0iVtHQZ.png)\n",
    "\n",
    "4. Then just keep clicking `Next` and leaving everything with the default values.\n",
    "\n",
    "    ![display_settings](https://i.imgur.com/2H6yd0e.png)\n",
    "\n",
    "5. After that's finished, go to your `~/projects/ds-prep-workspace/Week 9/SLU15 - Final Project` folder and instead of typing `python main.py` to run your game, type the following:\n",
    "\n",
    "```bash\n",
    "export DISPLAY=localhost:0.0 && python main.py\n",
    "```    \n",
    "\n",
    "\n",
    "**Every time that you want to run the game, you need first to start xlaunch. It will give pygame the screen that it needs.**"
   ]
  },
  {
   "cell_type": "markdown",
   "metadata": {},
   "source": [
    "\n",
    "### File Structure\n",
    "You should have seen a bunch of files on the root folder of the project. Don't be scared, we will explain to you all the details of each one.\n",
    "\n",
    "In a software project, the code is divided in several modules. It allows us to have some organization on the code, avoiding files with thousands of lines. Typically, the code is divided following some logical structure. \n",
    "\n",
    "In our project, we have 4 modules:\n",
    "\n",
    "- `mines.py` - The file where the class that represents the game is implemented. We will talk more about it later. It will be the file where you will need to implement the code.\n",
    "- `pygame_utils.py` - It manages the logic behind creating and updating the screen that allow us to interact with the game. You don't need to worry about this file, take it as an external library, for you it is like matplotlib, the package that allowed us to create plots. \n",
    "- `constants.py`- Auxiliary file to store global variables\n",
    "- `main.py` - Entry point of our program. It handles the main loop of our game. It is the file that links all the different modules and starts the game.\n",
    "- `tests.py` - Some code that allows us to test our code. It is like the asserts that you have seen on Jupyter Notebook"
   ]
  },
  {
   "cell_type": "markdown",
   "metadata": {},
   "source": [
    "### Main.py"
   ]
  },
  {
   "cell_type": "markdown",
   "metadata": {},
   "source": [
    "```python\n",
    "\"\"\"\n",
    "    YOU ARE NOT SUPPOSED TO DO CHANGES TO THIS FILE.\n",
    "    DO THE CHANGES AT YOUR OWN RISK. IT WOULD BE HARD TO THE INSTRUCTORS\n",
    "    TO PROVIDE SUPPORT ON THE CONTENT OF THIS FILE\n",
    "\"\"\"\n",
    "import time\n",
    "\n",
    "import pygame\n",
    "from constants import SQUARE_SIZE, SCREEN_HEIGHT, SCREEN_WIDTH\n",
    "\n",
    "from pygame_utils import (\n",
    "    set_up_screen,\n",
    "    get_event,\n",
    "    show_message,\n",
    "    draw_minesweeper_game,\n",
    ")\n",
    "from mines import MinesweeperGame\n",
    "\n",
    "def transform_pos_to_grid(pos: tuple) -> tuple:\n",
    "    return pos[1]//SQUARE_SIZE, pos[0]//SQUARE_SIZE\n",
    "\n",
    "def main():\n",
    "    screen = set_up_screen()\n",
    "    ## Initialize the game according to the screen and square size.\n",
    "    mines = MinesweeperGame(\n",
    "        SCREEN_HEIGHT//SQUARE_SIZE,\n",
    "        SCREEN_WIDTH//SQUARE_SIZE\n",
    "    )\n",
    "    draw_minesweeper_game(screen, mines)\n",
    "    while True:\n",
    "        event = get_event()\n",
    "        if event.type == pygame.QUIT:\n",
    "            break\n",
    "        if mines.is_running():\n",
    "            if event.type == pygame.MOUSEBUTTONUP:\n",
    "                pos = pygame.mouse.get_pos()\n",
    "                x, y = transform_pos_to_grid(pos)\n",
    "                if event.button == 1:\n",
    "                    # If player left clicked of the grid\n",
    "                    mines.click(x, y)\n",
    "                elif event.button == 3:\n",
    "                    # If player right clicked of the grid\n",
    "                    mines.right_click(x, y)\n",
    "                draw_minesweeper_game(screen, mines)\n",
    "            time.sleep(0.01)\n",
    "        elif mines.found_all_mines():\n",
    "            # If the player has found all the mines, he wins\n",
    "            show_message(screen, \"You win!\")\n",
    "        else:\n",
    "            show_message(screen, 'You lost')\n",
    "\n",
    "\n",
    "if __name__ == '__main__':\n",
    "    main()\n",
    "```"
   ]
  },
  {
   "cell_type": "markdown",
   "metadata": {},
   "source": [
    "The ```main.py``` file is the entry point of our program (is the file that we run when we want to launch the game). You can easily identify it by the block of the code at the end of the file:\n",
    "```python\n",
    "if __name__ == \"__main__\":\n",
    "    main()\n",
    "```\n",
    "\n",
    "If you want to run the game, simple type `python main.py`on your terminal. It will run the code above, passing to python the variable `__name__ = 'main'`.\n",
    "\n",
    "On this file, we create an instance of our game, i.e., an object of our class `MinesweeperGame` and then we do the game loop, looking if there is any cell pressed and updating the game board accordingly.\n",
    "\n",
    "So, now go to your terminal, navigate to the root folder of the project `~/projects/ds-prep-workspace/Week 09/SUL16 - Final Project` and then type `python main.py`. \n",
    "\n",
    "If you are on WSL, run `export DISPLAY=localhost:0.0 && python main.py`\n",
    "\n",
    "You should see something like this:\n",
    "![The game](https://i.imgur.com/kyZ78nO.png)\n",
    "\n",
    "It is important to always have both **the game window and the terminal window on your screen**. The terminal will be useful to show our debug prints. "
   ]
  },
  {
   "cell_type": "markdown",
   "metadata": {},
   "source": [
    "### mines.py\n",
    "\n",
    "#### Open the File mines.py\n",
    "Open the `mines.py` file on your favorite Text Editor. Take a look on the code, and get familiar with it. It is on this class where you will need to implement some code in order to make the game fully functional.\n",
    "\n",
    "##### Type Annotations\n",
    "You will see something new, all the methods have type [Type Annotations](https://docs.python.org/3/library/typing.html). \n",
    "``` python\n",
    "  def my_func(pixel_coord: Tuple[int, int]) -> Tuple[int, int]:\n",
    "```\n",
    "It allows us to give some hints to the people that will pick up our code. Hints on the type of each functions' argument as well as on the value that is returned by the function. It helps to improve the code readability. Again, for the computer it will be the same, we will not get an error if we provide an argument of the wrong type.\n",
    "\n",
    "On the example above, we are defining that our function receives a tuple of integers with 2 positions (`pixel_coord: Tuple[int, int]`). What appears after the `->` tells us the type of the variable returned by the function. In this case, the function returns a Tuple of integers as well (` -> Tuple[int, int]`) \n",
    "\n",
    "##### DocStrings\n",
    "You should have noticed as well that all the methods have a DocString. It is another good practice, it allows people that pickup the code to go and understand what is function / method is doing. (in this case, you)\n",
    "![DocStrings](https://i.imgur.com/JZtEsMI.png)\n"
   ]
  },
  {
   "cell_type": "markdown",
   "metadata": {},
   "source": [
    "### Tests.py\n",
    "\n",
    "The `tests.py` file is the file where we are implementing the unit Tests for the `MinesweeperGame` class. \n",
    "\n",
    "[Unit Test](https://en.wikipedia.org/wiki/Unit_testing) is a type of the Tests that you can do to your code. The asserts that you have saw so far are a simplified version of unit-testing. There are other [type of tests](https://www.softwaretestinghelp.com/types-of-software-testing/), take a look on this link in case that you want to learn a bit more about this topic.\n",
    "\n",
    "Tests are important when we are developing our code. Typically, it is a good practice to write the tests to your functions before you even start writing the implementation of the functions [(TDD Paradigm)](https://en.wikipedia.org/wiki/Test-driven_development). Then, your job will be to implement the function and make sure that the tests are passing. In the future, if someone makes changes to the code, the tests will allow to make sure that the behavior is not changed.\n",
    "\n",
    "In python we have a [library](https://docs.python.org/3/library/unittest.html) that simplifies the implementation of the unit tests. If you are interested on the topic, take a look on the documentation. You will not be asked to write new tests. The tests will help you to make sure that the code that you are supposed to write is correct and working. Like the assert cells that you have until now.\n",
    "\n",
    "Go and take a look on the file `tests.py`"
   ]
  },
  {
   "cell_type": "markdown",
   "metadata": {},
   "source": [
    "### About this SLU\n",
    "This SLU is for you to explore the code that was done by us. Go and take a look on the full project, try to understand how the dots are connected. Explore the way that we have divided our code and the way that we have connected all the pieces."
   ]
  }
 ],
 "metadata": {
  "kernelspec": {
   "display_name": "Python 3 (ipykernel)",
   "language": "python",
   "name": "python3"
  },
  "language_info": {
   "codemirror_mode": {
    "name": "ipython",
    "version": 3
   },
   "file_extension": ".py",
   "mimetype": "text/x-python",
   "name": "python",
   "nbconvert_exporter": "python",
   "pygments_lexer": "ipython3",
   "version": "3.7.13"
  }
 },
 "nbformat": 4,
 "nbformat_minor": 4
}
