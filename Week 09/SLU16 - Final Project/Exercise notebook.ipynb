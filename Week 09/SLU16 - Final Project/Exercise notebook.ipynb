{
 "cells": [
  {
   "cell_type": "markdown",
   "metadata": {
    "deletable": false,
    "editable": false,
    "nbgrader": {
     "grade": false,
     "grade_id": "cell-ab49f1d2cd5ec95b",
     "locked": true,
     "schema_version": 3,
     "solution": false,
     "task": false
    }
   },
   "source": [
    "# Final Project - Minesweeper"
   ]
  },
  {
   "cell_type": "markdown",
   "metadata": {
    "deletable": false,
    "editable": false,
    "nbgrader": {
     "grade": false,
     "grade_id": "cell-6cfba1955dd1be1a",
     "locked": true,
     "schema_version": 3,
     "solution": false,
     "task": false
    }
   },
   "source": [
    "Open the file `mines.py`.Here will be the class with the Minesweeper game Class.\n",
    "\n",
    "Here are the exercises for this SLU16:\n",
    "\n",
    "    * Create the method `check_if_mine`\n",
    "    * Create the method `count_mines_around`\n",
    "    * Create the method `click_around`\n",
    "\n",
    "Each exercise will guide you to each of these methods. The expected behavior is described on the methods docstring.If you have some doubts, please refer to the Learning Notebook"
   ]
  },
  {
   "cell_type": "markdown",
   "metadata": {
    "deletable": false,
    "editable": false,
    "nbgrader": {
     "grade": false,
     "grade_id": "cell-1e7dda79ba44898f",
     "locked": true,
     "schema_version": 3,
     "solution": false,
     "task": false
    }
   },
   "source": [
    "## Exercise 1\n",
    "Look for the method `check_if_mine`. On this exercise you will need to implement this method. The expected behavior is described on the methods docstring. If you have some doubts, please refer to the Learning Notebook\n",
    "\n",
    "Once you are done, please run the cell below and make sure that the tests pass. If you prefer you can run the tests by navigating to the root folder of your project and then run the command `pytest tests.py -k 'test_click_mine'`."
   ]
  },
  {
   "cell_type": "code",
   "execution_count": null,
   "metadata": {},
   "outputs": [],
   "source": [
    "!pytest tests.py -k 'test_click_mine'"
   ]
  },
  {
   "cell_type": "markdown",
   "metadata": {
    "deletable": false,
    "editable": false,
    "nbgrader": {
     "grade": false,
     "grade_id": "cell-84bba7638c640827",
     "locked": true,
     "schema_version": 3,
     "solution": false,
     "task": false
    }
   },
   "source": [
    "## Exercise 2\n",
    "Look for the method `count_mines_around`. On this exercise you will need to implement this method. The expected behavior is described on the method docstring.\n",
    "\n",
    "Once you are done, please run the cell below and make sure that the tests pass. If you prefer you can run the tests by navigating to the root folder of your project and then run the command `pytest tests.py -k 'test_click_empty'`."
   ]
  },
  {
   "cell_type": "code",
   "execution_count": null,
   "metadata": {},
   "outputs": [],
   "source": [
    "!pytest tests.py -k 'test_click_empty'"
   ]
  },
  {
   "cell_type": "markdown",
   "metadata": {
    "deletable": false,
    "editable": false,
    "nbgrader": {
     "grade": false,
     "grade_id": "cell-30c1269c591734ec",
     "locked": true,
     "schema_version": 3,
     "solution": false,
     "task": false
    }
   },
   "source": [
    "## Exercise 3\n",
    "Look for the method `click_around`. On this exercise you will need to implement this method. The expected behavior is described on the method docstring.\n",
    "\n",
    "Once you are done, please run the cell below and make sure that the tests pass. If you prefer you can run the tests by navigating to the root folder of your project and then run the command `pytest tests.py -k 'test_area_revealed'`."
   ]
  },
  {
   "cell_type": "code",
   "execution_count": null,
   "metadata": {},
   "outputs": [],
   "source": [
    "!pytest tests.py -k 'test_area_revealed'"
   ]
  },
  {
   "cell_type": "markdown",
   "metadata": {
    "deletable": false,
    "editable": false,
    "nbgrader": {
     "grade": false,
     "grade_id": "cell-1bca62991221106b",
     "locked": true,
     "schema_version": 3,
     "solution": false,
     "task": false
    }
   },
   "source": [
    "## Run all the tests"
   ]
  },
  {
   "cell_type": "markdown",
   "metadata": {
    "deletable": false,
    "editable": false,
    "nbgrader": {
     "grade": false,
     "grade_id": "cell-279ae0eb7d603056",
     "locked": true,
     "schema_version": 3,
     "solution": false,
     "task": false
    }
   },
   "source": [
    "Now you can run the tests all at once by running the cell below. "
   ]
  },
  {
   "cell_type": "code",
   "execution_count": null,
   "metadata": {},
   "outputs": [],
   "source": [
    "!pytest -rA tests.py"
   ]
  },
  {
   "cell_type": "markdown",
   "metadata": {
    "deletable": false,
    "editable": false,
    "nbgrader": {
     "grade": false,
     "grade_id": "cell-eb809c44475b3da8",
     "locked": true,
     "schema_version": 3,
     "solution": false,
     "task": false
    }
   },
   "source": [
    "# Help us to improve the course!\n",
    "Please help us to provide a even better experience for next year students by filling up this form\n",
    "https://forms.gle/GZPZvN9fR5fJ2z2a7"
   ]
  },
  {
   "cell_type": "markdown",
   "metadata": {
    "deletable": false,
    "editable": false,
    "nbgrader": {
     "grade": false,
     "grade_id": "cell-f90b1d12b5e9a467",
     "locked": true,
     "schema_version": 3,
     "solution": false,
     "task": false
    }
   },
   "source": [
    "If you have reached this cell without seeing any error, congratulations, your game is now fully functional. Run your game and give it a play.\n",
    "\n",
    "Go to your terminal, navigate to the root folder of the project `~/projects/ds-prep-workspace/Week 09/SUL16 - Final Project` and then type `python main.py`. \n",
    "\n",
    "If you are on WSL, **please start xlaunch** (refer to the WSL requirements of the learning notebook), and run `export DISPLAY=localhost:0.0 && python main.py`"
   ]
  },
  {
   "cell_type": "markdown",
   "metadata": {
    "deletable": false,
    "editable": false,
    "nbgrader": {
     "grade": false,
     "grade_id": "cell-d5060328f1ce1781",
     "locked": true,
     "schema_version": 3,
     "solution": false,
     "task": false
    }
   },
   "source": [
    "## Next Steps\n",
    "If you think that it was too easy, we have some suggestion of improvements to do on the project.\n",
    "\n",
    "- Add some additional key shortcuts. Q will exit the Game, P will pause the game.\n",
    "- Show all the hidden mines when game finishes, both flagged and unflagged.\n",
    "- Restart the game if a given key is pressed \n",
    "- Change the design of the game, create your own design"
   ]
  },
  {
   "cell_type": "markdown",
   "metadata": {
    "deletable": false,
    "editable": false,
    "nbgrader": {
     "grade": false,
     "grade_id": "cell-77a90a24ef766d2e",
     "locked": true,
     "schema_version": 3,
     "solution": false,
     "task": false
    }
   },
   "source": [
    "# Submit your work!\n",
    "\n",
    "To submit your work, [follow the steps here, in the step \"Grading the Exercise Notebook\"!](https://github.com/LDSSA/ds-prep-course-2022#22---working-on-the-learning-units)"
   ]
  }
 ],
 "metadata": {
  "kernelspec": {
   "display_name": "Python 3 (ipykernel)",
   "language": "python",
   "name": "python3"
  },
  "language_info": {
   "codemirror_mode": {
    "name": "ipython",
    "version": 3
   },
   "file_extension": ".py",
   "mimetype": "text/x-python",
   "name": "python",
   "nbconvert_exporter": "python",
   "pygments_lexer": "ipython3",
   "version": "3.7.13"
  }
 },
 "nbformat": 4,
 "nbformat_minor": 4
}
