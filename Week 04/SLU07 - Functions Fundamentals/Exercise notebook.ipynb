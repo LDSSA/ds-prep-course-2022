{
 "cells": [
  {
   "cell_type": "markdown",
   "metadata": {
    "deletable": false,
    "editable": false,
    "nbgrader": {
     "grade": false,
     "grade_id": "cell-46d843154dcd7d0f",
     "locked": true,
     "schema_version": 3,
     "solution": false
    }
   },
   "source": [
    "# SLU07 - Function Fundamentals: Exercise notebook\n",
    "\n",
    "Let's practice some functions! The important part here is that you can take some plain old english and translate it into a function."
   ]
  },
  {
   "cell_type": "code",
   "execution_count": null,
   "metadata": {
    "deletable": false,
    "editable": false,
    "nbgrader": {
     "grade": false,
     "grade_id": "cell-b03de9ca16f665fc",
     "locked": true,
     "schema_version": 3,
     "solution": false,
     "task": false
    }
   },
   "outputs": [],
   "source": [
    "# Don't mind this here, just some imports for the exercises - MAKE SURE YOU RUN THIS CELL\n",
    "import inspect\n",
    "from io import StringIO \n",
    "import sys\n",
    "\n",
    "class Capturing(list):\n",
    "    def __enter__(self):\n",
    "        self._stdout = sys.stdout\n",
    "        sys.stdout = self._stringio = StringIO()\n",
    "        return self\n",
    "    def __exit__(self, *args):\n",
    "        self.extend(self._stringio.getvalue().splitlines())\n",
    "        del self._stringio    # free up some memory\n",
    "        sys.stdout = self._stdout"
   ]
  },
  {
   "cell_type": "markdown",
   "metadata": {
    "deletable": false,
    "editable": false,
    "nbgrader": {
     "grade": false,
     "grade_id": "cell-183f09ee4f23c829",
     "locked": true,
     "schema_version": 3,
     "solution": false,
     "task": false
    }
   },
   "source": [
    "### Exercise 1\n",
    "\n",
    "Let's start with a simple one!\n",
    "\n",
    "Implement a function that:\n",
    "- Is named `fun_adding_numbers`\n",
    "- Takes two arguments\n",
    "- Adds the arguments together\n",
    "- Returns the value of the numbers added together\n"
   ]
  },
  {
   "cell_type": "code",
   "execution_count": null,
   "metadata": {
    "deletable": false,
    "nbgrader": {
     "grade": false,
     "grade_id": "cell-a3913c46bc1f65f2",
     "locked": false,
     "schema_version": 3,
     "solution": true,
     "task": false
    }
   },
   "outputs": [],
   "source": [
    "# def fun_adding_numbers...\n",
    "\n",
    "# YOUR CODE HERE\n",
    "raise NotImplementedError()"
   ]
  },
  {
   "cell_type": "code",
   "execution_count": null,
   "metadata": {
    "deletable": false,
    "editable": false,
    "nbgrader": {
     "grade": true,
     "grade_id": "cell-b7d97d9eb6d71625",
     "locked": true,
     "points": 2.5,
     "schema_version": 3,
     "solution": false,
     "task": false
    }
   },
   "outputs": [],
   "source": [
    "sig = inspect.signature(fun_adding_numbers)\n",
    "\n",
    "assert fun_adding_numbers(1, 2) == 3\n",
    "assert fun_adding_numbers(4, 5) == 9\n",
    "assert '+' in inspect.getsource(fun_adding_numbers)\n",
    "assert len(sig.parameters) == 2"
   ]
  },
  {
   "cell_type": "markdown",
   "metadata": {},
   "source": [
    "### First function done!! It's as simple as that! 😎 "
   ]
  },
  {
   "cell_type": "markdown",
   "metadata": {
    "deletable": false,
    "editable": false,
    "nbgrader": {
     "grade": false,
     "grade_id": "cell-0e243fe446e99f32",
     "locked": true,
     "schema_version": 3,
     "solution": false,
     "task": false
    }
   },
   "source": [
    "### Exercise 2\n",
    "\n",
    "Let's go for another one! \n",
    "\n",
    "Implement a function that\n",
    "\n",
    "- Is named `fun_multiplying_numbers`\n",
    "- Takes two parameters\n",
    "- Multiplies the arguments together\n",
    "- Returns the value of the numbers multiplied together\n"
   ]
  },
  {
   "cell_type": "code",
   "execution_count": null,
   "metadata": {
    "deletable": false,
    "nbgrader": {
     "grade": false,
     "grade_id": "cell-b5cba4d5bddbb4b5",
     "locked": false,
     "schema_version": 3,
     "solution": true,
     "task": false
    }
   },
   "outputs": [],
   "source": [
    "# def fun_multiplying_numbers...\n",
    "\n",
    "# YOUR CODE HERE\n",
    "raise NotImplementedError()"
   ]
  },
  {
   "cell_type": "code",
   "execution_count": null,
   "metadata": {
    "deletable": false,
    "editable": false,
    "nbgrader": {
     "grade": true,
     "grade_id": "cell-5db0d0c172007a90",
     "locked": true,
     "points": 2.5,
     "schema_version": 3,
     "solution": false,
     "task": false
    }
   },
   "outputs": [],
   "source": [
    "source = inspect.signature(fun_multiplying_numbers)\n",
    "\n",
    "assert fun_multiplying_numbers(1, 2) == 2\n",
    "assert fun_multiplying_numbers(4, 5) == 20\n",
    "assert '*' in inspect.getsource(fun_multiplying_numbers)\n",
    "assert len(source.parameters) == 2"
   ]
  },
  {
   "cell_type": "markdown",
   "metadata": {
    "deletable": false,
    "editable": false,
    "nbgrader": {
     "grade": false,
     "grade_id": "cell-88f90bfd46c1a732",
     "locked": true,
     "schema_version": 3,
     "solution": false,
     "task": false
    }
   },
   "source": [
    "### Exercise 3\n",
    "\n",
    "Now for some special functions points! You need to think about this one and what you have learned up until now.\n",
    "\n",
    "Try to implement the previous `fun_multiplying_numbers` function but now with a twist:\n",
    "- Is named `fun_multiplying_numbers_with_a_twist`\n",
    "- Takes two parameters\n",
    "- **Multiplies the arguments without using the * operator!**\n",
    "- Returns the value of the multiplication\n",
    "\n",
    "Tip: If you remember the good old days of math, multiplication is just a sequence of adding operations in a loop and you already learned how to do those!"
   ]
  },
  {
   "cell_type": "code",
   "execution_count": null,
   "metadata": {
    "deletable": false,
    "nbgrader": {
     "grade": false,
     "grade_id": "cell-24f09cf30d150f7a",
     "locked": false,
     "schema_version": 3,
     "solution": true,
     "task": false
    }
   },
   "outputs": [],
   "source": [
    "# def fun_multiplying_numbers_with_a_twist(a,b):\n",
    "    # result = 0\n",
    "    # (loop)\n",
    "    # return result\n",
    "\n",
    "# YOUR CODE HERE\n",
    "raise NotImplementedError()"
   ]
  },
  {
   "cell_type": "code",
   "execution_count": null,
   "metadata": {
    "deletable": false,
    "editable": false,
    "nbgrader": {
     "grade": true,
     "grade_id": "cell-9038267e2c8c00c4",
     "locked": true,
     "points": 2.5,
     "schema_version": 3,
     "solution": false,
     "task": false
    }
   },
   "outputs": [],
   "source": [
    "source = inspect.signature(fun_multiplying_numbers_with_a_twist)\n",
    "\n",
    "assert fun_multiplying_numbers_with_a_twist(1, 2) == 2\n",
    "assert fun_multiplying_numbers_with_a_twist(4, 5) == 20\n",
    "assert fun_multiplying_numbers_with_a_twist(100, 200) == 20000\n",
    "assert '*' not in inspect.getsource(fun_multiplying_numbers_with_a_twist), \"Don't use the multiplication operator! 😉\"\n",
    "assert len(source.parameters) == 2"
   ]
  },
  {
   "cell_type": "markdown",
   "metadata": {
    "deletable": false,
    "editable": false,
    "nbgrader": {
     "grade": false,
     "grade_id": "cell-709036dacd37516a",
     "locked": true,
     "schema_version": 3,
     "solution": false,
     "task": false
    }
   },
   "source": [
    "### Exercise 4\n",
    "\n",
    "Implement a function that\n",
    "\n",
    "- Is named `concat_strings`\n",
    "- Takes two parameters that are strings\n",
    "- Concatenates the strings together in the order that they are received\n",
    "- Returns the concatenated strings\n",
    "- **Twist**: the second parameter assumes as a default string \" best\" -> *mind the initial space!*"
   ]
  },
  {
   "cell_type": "code",
   "execution_count": null,
   "metadata": {
    "deletable": false,
    "nbgrader": {
     "grade": false,
     "grade_id": "cell-90e04d850de62687",
     "locked": false,
     "schema_version": 3,
     "solution": true,
     "task": false
    }
   },
   "outputs": [],
   "source": [
    "#Remember the default values 🤔 \n",
    "\n",
    "# YOUR CODE HERE\n",
    "raise NotImplementedError()"
   ]
  },
  {
   "cell_type": "code",
   "execution_count": null,
   "metadata": {
    "deletable": false,
    "editable": false,
    "nbgrader": {
     "grade": true,
     "grade_id": "cell-d309394f7d502266",
     "locked": true,
     "points": 2.5,
     "schema_version": 3,
     "solution": false,
     "task": false
    }
   },
   "outputs": [],
   "source": [
    "source = inspect.getsource(concat_strings)\n",
    "\n",
    "sig = inspect.signature(concat_strings)\n",
    "\n",
    "assert concat_strings('hello', ' world') == 'hello world'\n",
    "assert concat_strings('Daniel', ' will give me a good grade 🙏') == 'Daniel will give me a good grade 🙏'\n",
    "assert concat_strings('This course is the') == 'This course is the best'\n",
    "assert concat_strings('functions are the') == 'functions are the best'\n",
    "assert len(sig.parameters) == 2"
   ]
  },
  {
   "cell_type": "markdown",
   "metadata": {
    "deletable": false,
    "editable": false,
    "nbgrader": {
     "grade": false,
     "grade_id": "cell-b0e7fe350fb4ca08",
     "locked": true,
     "schema_version": 3,
     "solution": false,
     "task": false
    }
   },
   "source": [
    "### Exercise 5\n",
    "\n",
    "Implement a function that\n",
    "\n",
    "- Is named `convert_to_int_and_add`\n",
    "- Takes two parameters\n",
    "- Both of the parameters are integers **represented as strings** (for example, \"9\")\n",
    "- Converts the strings to integers\n",
    "- Add the integers together\n",
    "- Return the value of the integers added together"
   ]
  },
  {
   "cell_type": "code",
   "execution_count": null,
   "metadata": {
    "deletable": false,
    "nbgrader": {
     "grade": false,
     "grade_id": "cell-5769f897199017e3",
     "locked": false,
     "schema_version": 3,
     "solution": true,
     "task": false
    }
   },
   "outputs": [],
   "source": [
    "# YOUR CODE HERE\n",
    "raise NotImplementedError()"
   ]
  },
  {
   "cell_type": "code",
   "execution_count": null,
   "metadata": {
    "deletable": false,
    "editable": false,
    "nbgrader": {
     "grade": true,
     "grade_id": "cell-bf3c5cd42c49fa00",
     "locked": true,
     "points": 2.5,
     "schema_version": 3,
     "solution": false,
     "task": false
    }
   },
   "outputs": [],
   "source": [
    "source = inspect.getsource(convert_to_int_and_add)\n",
    "\n",
    "sig = inspect.signature(convert_to_int_and_add)\n",
    "\n",
    "assert convert_to_int_and_add('1', '2') == 3\n",
    "assert convert_to_int_and_add('5', '100') == 105\n",
    "assert '+' in source\n",
    "assert 'int' in source\n",
    "assert len(sig.parameters) == 2"
   ]
  },
  {
   "cell_type": "markdown",
   "metadata": {
    "deletable": false,
    "editable": false,
    "nbgrader": {
     "grade": false,
     "grade_id": "cell-88cc5425bbcd43d5",
     "locked": true,
     "schema_version": 3,
     "solution": false,
     "task": false
    }
   },
   "source": [
    "### Exercise 6\n",
    "\n",
    "Implement a function that\n",
    "\n",
    "- Is named `two_step`\n",
    "- Takes 4 parameters\n",
    "- Multiplies the first 2 together and stores the output in a variable called `step1`\n",
    "- Divides 3rd parameter by the 4th parameter and stores the output in a variable called `step2`\n",
    "- Adds the variables `step1` and `step2` together, calling it `result`\n",
    "- If `result` is greater than 20, subtract 10 to it\n",
    "- Returns the final result"
   ]
  },
  {
   "cell_type": "code",
   "execution_count": null,
   "metadata": {
    "deletable": false,
    "nbgrader": {
     "grade": false,
     "grade_id": "cell-70188605f9305dc8",
     "locked": false,
     "schema_version": 3,
     "solution": true,
     "task": false
    }
   },
   "outputs": [],
   "source": [
    "# YOUR CODE HERE\n",
    "raise NotImplementedError()"
   ]
  },
  {
   "cell_type": "code",
   "execution_count": null,
   "metadata": {
    "deletable": false,
    "editable": false,
    "nbgrader": {
     "grade": true,
     "grade_id": "cell-9712fb50a8f3d533",
     "locked": true,
     "points": 2.5,
     "schema_version": 3,
     "solution": false,
     "task": false
    }
   },
   "outputs": [],
   "source": [
    "source = inspect.getsource(two_step)\n",
    "\n",
    "sig = inspect.signature(two_step)\n",
    "\n",
    "assert two_step(2, 2, 4, 2) == 6.0, \"The final result is not matching\"\n",
    "assert two_step(2, 3, 100, 5) == 16.0, \"Are you subtracting correctly? 🤔\"\n",
    "assert '*' in source\n",
    "assert '/' in source\n",
    "assert 'step1' in source\n",
    "assert 'step2' in source\n",
    "assert 'result' in source\n",
    "assert len(sig.parameters) == 4"
   ]
  },
  {
   "cell_type": "markdown",
   "metadata": {
    "deletable": false,
    "editable": false,
    "nbgrader": {
     "grade": false,
     "grade_id": "cell-48156893a92299c4",
     "locked": true,
     "schema_version": 3,
     "solution": false,
     "task": false
    }
   },
   "source": [
    "### Exercise 7\n",
    "\n",
    "Write a function that\n",
    "\n",
    "1. Is named `holla`\n",
    "1. Takes 5 arguments\n",
    "1. Calls `fun_adding_numbers` with the first two arguments and stores the output in `out1`\n",
    "1. Calls `fun_multiplying_numbers` with the second two arguments and stores the output in `out2`\n",
    "1. Calls `two_step` with the last 4 arguments and stores the output in `out3`\n",
    "1. Returns the addition of `out1`, `out2`, and `out3`"
   ]
  },
  {
   "cell_type": "code",
   "execution_count": null,
   "metadata": {
    "deletable": false,
    "nbgrader": {
     "grade": false,
     "grade_id": "cell-a5e8cf3762c2538a",
     "locked": false,
     "schema_version": 3,
     "solution": true,
     "task": false
    }
   },
   "outputs": [],
   "source": [
    "# YOUR CODE HERE\n",
    "raise NotImplementedError()"
   ]
  },
  {
   "cell_type": "code",
   "execution_count": null,
   "metadata": {
    "deletable": false,
    "editable": false,
    "nbgrader": {
     "grade": true,
     "grade_id": "cell-a02c4760a2ce92bf",
     "locked": true,
     "points": 2.5,
     "schema_version": 3,
     "solution": false,
     "task": false
    }
   },
   "outputs": [],
   "source": [
    "source = inspect.getsource(holla)\n",
    "sig = inspect.signature(holla)\n",
    "\n",
    "assert holla(1, 2, 2, 4, 2) == 17\n",
    "assert holla(1, 2, 3, 100, 5) == 319.0\n",
    "assert 'fun_adding_numbers(' in source\n",
    "assert 'fun_multiplying_numbers(' in source\n",
    "assert 'two_step(' in source\n",
    "assert 'out1 + out2 + out3' in source\n",
    "assert len(sig.parameters) == 5"
   ]
  },
  {
   "cell_type": "markdown",
   "metadata": {
    "deletable": false,
    "editable": false,
    "nbgrader": {
     "grade": false,
     "grade_id": "cell-758ceecc6b5e495e",
     "locked": true,
     "schema_version": 3,
     "solution": false,
     "task": false
    }
   },
   "source": [
    "### Exercise 8\n",
    "\n",
    "Write a function that\n",
    "\n",
    "1. Is called `add_and_print`\n",
    "1. Takes two arguments\n",
    "1. Adds them together\n",
    "1. Prints the output\n",
    "1. Returns the value `5`"
   ]
  },
  {
   "cell_type": "code",
   "execution_count": null,
   "metadata": {
    "deletable": false,
    "nbgrader": {
     "grade": false,
     "grade_id": "cell-5a9e41f05baeb9b5",
     "locked": false,
     "schema_version": 3,
     "solution": true,
     "task": false
    }
   },
   "outputs": [],
   "source": [
    "# YOUR CODE HERE\n",
    "raise NotImplementedError()"
   ]
  },
  {
   "cell_type": "code",
   "execution_count": null,
   "metadata": {
    "deletable": false,
    "editable": false,
    "nbgrader": {
     "grade": true,
     "grade_id": "cell-733a771bc8560db2",
     "locked": true,
     "points": 2.5,
     "schema_version": 3,
     "solution": false,
     "task": false
    }
   },
   "outputs": [],
   "source": [
    "source = inspect.getsource(add_and_print)\n",
    "sig = inspect.signature(add_and_print)\n",
    "\n",
    "with Capturing() as output:\n",
    "    retval = add_and_print(1, 2)\n",
    "\n",
    "assert retval == 5\n",
    "assert output[0] == '3'\n",
    "\n",
    "with Capturing() as output:\n",
    "    retval = add_and_print(10287366, 912865763524)\n",
    "    \n",
    "assert retval == 5\n",
    "assert output[0] == '912876050890'\n",
    "\n",
    "assert '+' in source\n",
    "assert len(sig.parameters) == 2"
   ]
  },
  {
   "cell_type": "markdown",
   "metadata": {
    "deletable": false,
    "editable": false,
    "nbgrader": {
     "grade": false,
     "grade_id": "cell-0076470b51ad6b7d",
     "locked": true,
     "schema_version": 3,
     "solution": false,
     "task": false
    }
   },
   "source": [
    "# Submit your work!\n",
    "\n",
    "To submit your work, [follow the steps here, in the section \"Grading the Exercise Notebook\"!](https://github.com/LDSSA/ds-prep-course-2022#22---working-on-the-learning-units)"
   ]
  }
 ],
 "metadata": {
  "kernelspec": {
   "display_name": "Python 3",
   "language": "python",
   "name": "python3"
  },
  "language_info": {
   "codemirror_mode": {
    "name": "ipython",
    "version": 3
   },
   "file_extension": ".py",
   "mimetype": "text/x-python",
   "name": "python",
   "nbconvert_exporter": "python",
   "pygments_lexer": "ipython3",
   "version": "3.7.12"
  }
 },
 "nbformat": 4,
 "nbformat_minor": 2
}
