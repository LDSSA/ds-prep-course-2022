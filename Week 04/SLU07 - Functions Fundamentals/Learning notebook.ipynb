{
 "cells": [
  {
   "cell_type": "markdown",
   "metadata": {},
   "source": [
    "# Functions Fundamentals\n",
    "\n",
    "Welcome and let's hope you have a lot of fun!<br>\n",
    "Please make sure that you've checked out the README before starting this unit."
   ]
  },
  {
   "cell_type": "markdown",
   "metadata": {},
   "source": [
    "## 1. What is a function?\n",
    "\n",
    "A function is a block of code that performs a task, and that you can **reuse** multiple times.\n",
    "\n",
    "The keyword here is \"reuse\" since functions allow you to avoid re-writting (or copy-pasting) the same piece of code in multiple places.\n",
    "\n",
    "### 1.1. Why is that better than copy-pasting?\n",
    "\n",
    "Because they provide **modularity**!\n",
    "Let's understand this better with an example: imagine that you have created a calculation that you have copy-pasted into multiple places in your code.\n",
    "In the end, you realise that you were using the wrong formula so you had to change it all over... what a pain, hein? 😓\n",
    "\n",
    "If you have used a function to contain your formula instead, you would just need to fix the bug in the function definition! 💡\n",
    "\n",
    "Programming languages let us build conceptually unlimited boxes of machinery that do our bidding. It is incredibly empowering. Many tasks that are done on a computer can be automated using machinery, and functions are the most important tool at your disposal to organize it.\n",
    "\n",
    "TL;DR of why functions are amazing:\n",
    "* Easy to read and understand\n",
    "* Easy to debug\n",
    "* Reusability!\n",
    "\n",
    "\n",
    "![onedoesnotcopypaste.jpg](assets/onedoesnotcopypaste.jpg)\n",
    "\n",
    "\n",
    "\n",
    "### 1.2. Input > Task > Output\n",
    "\n",
    "1. Functions can receive an input (usually called arguments or parameters)\n",
    "\n",
    "2. Then they use that input to perform a task\n",
    "\n",
    "3. In the end, the result of the task can return an output\n",
    "\n",
    "\n",
    "\n",
    "### 1.3.Types of functions\n",
    "\n",
    "There are three different types of functions:\n",
    "\n",
    "* **Built-in functions** - that are already defined in Python, for example the `print()` function.\n",
    "* **User-defined functions (UDFs)** - the ones you create!\n",
    "* **Anonymous functions** - also called lambda functions, they are constructed in a different way.\n",
    "\n",
    "For the purpose of this unit, we will only look only into user-defined functions! You'll get the chance to look into the other types in another units ahead!"
   ]
  },
  {
   "cell_type": "markdown",
   "metadata": {},
   "source": [
    "## 2. Create a function\n",
    "\n",
    "### 2.1. Syntax for writing a function\n",
    "\n",
    "A function in Python looks like this:\n",
    "\n",
    "![function_structure.PNG](assets/function_structure.PNG)\n",
    "\n",
    "Let's get into all of its elements...\n",
    "\n",
    "**Header** - where you define the name of the function and the parameters it takes<br>\n",
    "\n",
    "&nbsp;&nbsp;&nbsp;&nbsp;H1. `def` - the keyword used to **define** the function<br>\n",
    "&nbsp;&nbsp;&nbsp;&nbsp;H2. Function name - this is what you will use when you want to call your function in any part of your code<br>\n",
    "&nbsp;&nbsp;&nbsp;&nbsp;H3. Parameters - the input for your function. If you have more than 1 parameter, you need to separate them with commas<br>\n",
    "&nbsp;&nbsp;&nbsp;&nbsp;H4. `:` - marks the end of the header<br>\n",
    "\n",
    "<br>\n",
    "\n",
    "**Body** - includes the task to execute and the return statement<br>\n",
    "\n",
    "&nbsp;&nbsp;&nbsp;&nbsp;B1. Indentation - **all code inside the body of the function must be indented**. Otherwise it is not part of the function. You can use 4 spaces or a tab to create the needed indentation.<br>\n",
    "&nbsp;&nbsp;&nbsp;&nbsp;B2. The task you want your function to execute. In this case it's just a line of code, but it can be more<br>\n",
    "&nbsp;&nbsp;&nbsp;&nbsp;B3. Return value - the value you want your function to return after completing the task "
   ]
  },
  {
   "cell_type": "markdown",
   "metadata": {},
   "source": [
    "This may seem like a lot now, but after a bit of practice, it'll become second nature 🌳"
   ]
  },
  {
   "cell_type": "markdown",
   "metadata": {},
   "source": [
    "\n"
   ]
  },
  {
   "cell_type": "markdown",
   "metadata": {},
   "source": [
    "### 2.2. Define a function\n",
    "\n",
    "#### Let's make it real by implementing a version of the calculator\n",
    "\n",
    "Let's implement a very simple version of a calculator: one that takes two numbers and adds them together and we'll do this in actual code:\n"
   ]
  },
  {
   "cell_type": "code",
   "execution_count": 1,
   "metadata": {},
   "outputs": [],
   "source": [
    "def add_two_numbers(number1, number2):\n",
    "    output = number1 + number2\n",
    "    return output"
   ]
  },
  {
   "cell_type": "markdown",
   "metadata": {},
   "source": [
    "Can you identify the name, input, task, and output?\n",
    "\n",
    "In this example, you might notice something a bit different: there are two inputs! You can pass as many inputs as you want to a function as long as they are separated by a `,`.\n"
   ]
  },
  {
   "cell_type": "markdown",
   "metadata": {},
   "source": [
    "### 2.3. Parameters vs arguments [Optional]\n",
    "\n",
    "We commonly use any of these terms interchangeably. But if you really want to know the right way to use each one of these concepts, here are their definitions (taken from [here](https://www.etsu.edu/cas/math/documents/sstem/python_3_chapter_5_loops_and_iterations.pdf)):\n",
    "\n",
    "> **Parameter**: a name used inside a function to refer to the value passed as an argument.\n",
    ">\n",
    "> **Argument**: a value provided to a function when the function is called. This value is assigned to the corresponding parameter in the function.\n",
    "\n",
    "\n",
    "Basically, you call the input as parameters when defining the function and arguments when calling the function."
   ]
  },
  {
   "cell_type": "markdown",
   "metadata": {},
   "source": [
    "## 3. Call a function\n",
    "\n",
    "When you write the code above, you are just defining the name of your function and what you want it to do. \n",
    "\n",
    "**By just defining the function, the code does not execute the task!**\n",
    "In order to execute the function, you need to\n",
    "\n",
    "![callit.png](assets/function_callit.png)\n",
    "\n",
    "\n",
    "This is a VERY important piece of vocabulary about using functions: you \"call\" them. This little piece of vocabulary is common across all programming languages. To use a function, you \"call\" it.\n",
    "\n",
    "So let's do it:"
   ]
  },
  {
   "cell_type": "code",
   "execution_count": 2,
   "metadata": {},
   "outputs": [
    {
     "data": {
      "text/plain": [
       "3"
      ]
     },
     "execution_count": 2,
     "metadata": {},
     "output_type": "execute_result"
    }
   ],
   "source": [
    "add_two_numbers(1, 2)"
   ]
  },
  {
   "cell_type": "markdown",
   "metadata": {},
   "source": [
    "Sweet, let's prove to ourselves that it works with other numbers as well:"
   ]
  },
  {
   "cell_type": "code",
   "execution_count": 3,
   "metadata": {},
   "outputs": [
    {
     "data": {
      "text/plain": [
       "983549313649"
      ]
     },
     "execution_count": 3,
     "metadata": {},
     "output_type": "execute_result"
    }
   ],
   "source": [
    "add_two_numbers(81726386, 983467587263)"
   ]
  },
  {
   "cell_type": "markdown",
   "metadata": {},
   "source": [
    "Looking good! We have written our first working function! 😎 "
   ]
  },
  {
   "cell_type": "markdown",
   "metadata": {},
   "source": [
    "Let's try with another function!"
   ]
  },
  {
   "cell_type": "code",
   "execution_count": 4,
   "metadata": {},
   "outputs": [],
   "source": [
    "# Defines function multiply\n",
    "def multiply(n1, n2):\n",
    "    output = n1 * n2\n",
    "    return output"
   ]
  },
  {
   "cell_type": "markdown",
   "metadata": {},
   "source": [
    "We know the name of the function: `multiply`. The way we can use it once we know the name is to do the following:\n",
    "\n",
    "```py\n",
    "function_name(inputs)\n",
    "```\n",
    "\n",
    "As below:"
   ]
  },
  {
   "cell_type": "code",
   "execution_count": 5,
   "metadata": {},
   "outputs": [
    {
     "data": {
      "text/plain": [
       "110"
      ]
     },
     "execution_count": 5,
     "metadata": {},
     "output_type": "execute_result"
    }
   ],
   "source": [
    "# Calls the function\n",
    "multiply(10, 11)"
   ]
  },
  {
   "cell_type": "markdown",
   "metadata": {},
   "source": [
    "### 3.1. Passing inputs\n",
    "\n",
    "Inputs don't have to be the values themselves directly. They can (and usually should) be variables! Let's take a look at how we can pass input as variables:"
   ]
  },
  {
   "cell_type": "code",
   "execution_count": 6,
   "metadata": {},
   "outputs": [
    {
     "data": {
      "text/plain": [
       "3"
      ]
     },
     "execution_count": 6,
     "metadata": {},
     "output_type": "execute_result"
    }
   ],
   "source": [
    "one = 1\n",
    "two = 2\n",
    "add_two_numbers(one, two)"
   ]
  },
  {
   "cell_type": "markdown",
   "metadata": {},
   "source": [
    "The power of abstraction is incredible! This pattern of passing variables into functions rather than the values themselves is what gives us the ability to re-use code that you've written an unlimited number of times in situations that you can't even imagine when you first wrote the function. "
   ]
  },
  {
   "cell_type": "markdown",
   "metadata": {},
   "source": [
    "### 3.2. Storing outputs\n",
    "\n",
    "When a function returns a value, you can store it in a variable which you can use later on."
   ]
  },
  {
   "cell_type": "code",
   "execution_count": 7,
   "metadata": {},
   "outputs": [],
   "source": [
    "output1 = add_two_numbers(1, 2)\n",
    "output2 = add_two_numbers(2, 3)"
   ]
  },
  {
   "cell_type": "code",
   "execution_count": 8,
   "metadata": {},
   "outputs": [
    {
     "name": "stdout",
     "output_type": "stream",
     "text": [
      "3\n"
     ]
    }
   ],
   "source": [
    "print(output1)"
   ]
  },
  {
   "cell_type": "code",
   "execution_count": 9,
   "metadata": {},
   "outputs": [
    {
     "name": "stdout",
     "output_type": "stream",
     "text": [
      "5\n"
     ]
    }
   ],
   "source": [
    "print(output2)"
   ]
  },
  {
   "cell_type": "markdown",
   "metadata": {},
   "source": [
    "Storing the output is the same as for calling the function but you add to the beginning of the line:\n",
    "\n",
    "```py\n",
    "output = function_name(...)\n",
    "```"
   ]
  },
  {
   "cell_type": "markdown",
   "metadata": {},
   "source": [
    "Let's try again with our `multiply` example:"
   ]
  },
  {
   "cell_type": "code",
   "execution_count": 10,
   "metadata": {},
   "outputs": [],
   "source": [
    "# Assigns the result of the function to the variable multiplied_numbers\n",
    "multiplied_numbers = multiply(10, 11)"
   ]
  },
  {
   "cell_type": "code",
   "execution_count": 11,
   "metadata": {},
   "outputs": [
    {
     "name": "stdout",
     "output_type": "stream",
     "text": [
      "110\n"
     ]
    }
   ],
   "source": [
    "# Prints the variable\n",
    "print(multiplied_numbers)"
   ]
  },
  {
   "cell_type": "markdown",
   "metadata": {},
   "source": [
    "### 3.3. The input becomes the output\n",
    "\n",
    "If you are using multiple functions in a row and one needs to take the output from another, this is how you do it:"
   ]
  },
  {
   "cell_type": "code",
   "execution_count": 12,
   "metadata": {},
   "outputs": [
    {
     "data": {
      "text/plain": [
       "9"
      ]
     },
     "execution_count": 12,
     "metadata": {},
     "output_type": "execute_result"
    }
   ],
   "source": [
    "output1 = add_two_numbers(1, 2)\n",
    "output2 = multiply(2, 3)\n",
    "\n",
    "add_two_numbers(output1, output2)"
   ]
  },
  {
   "cell_type": "markdown",
   "metadata": {},
   "source": [
    "### 3.4. Passing a function to a function\n",
    "\n",
    "Other mindblowing possiblity with functions. **Functions are limitless and are the basis of programming!**"
   ]
  },
  {
   "cell_type": "code",
   "execution_count": 13,
   "metadata": {},
   "outputs": [
    {
     "data": {
      "text/plain": [
       "9"
      ]
     },
     "execution_count": 13,
     "metadata": {},
     "output_type": "execute_result"
    }
   ],
   "source": [
    "add_two_numbers(add_two_numbers(1, 2), multiply(2, 3))"
   ]
  },
  {
   "cell_type": "markdown",
   "metadata": {},
   "source": [
    "Let's understand what has just happened. \n",
    "Since `add_two_numbers` returns the sum of two values and `multiply` also returns the multiplication of two valyes, by passing these functions as arguments, we are running these two functions first, and only then using their output to run the third and outer function to obtain the final value.\n",
    "\n",
    "This last example is the same as the one before but with less steps."
   ]
  },
  {
   "cell_type": "markdown",
   "metadata": {},
   "source": [
    "## 4. Default values\n",
    "\n",
    "As previously stated, functions receive arguments, and those arguments can be whatever we want to pass: an int, a string, a list, a dictionary, you choose!\n",
    "\n",
    "However, there is also the possibility to not choose to pass an argument - we can create default argument values!\n",
    "\n",
    "What this means is that, in case that you don't explicitly pass the argument value, the function will use the default value.\n",
    "\n",
    "Let's see this in more detail."
   ]
  },
  {
   "cell_type": "code",
   "execution_count": 14,
   "metadata": {},
   "outputs": [],
   "source": [
    "# Defining the function\n",
    "def function_with_default_argument(param1, param2 = 5):\n",
    "    # Here the default argument for param2 is 5!\n",
    "    return param1 * param2"
   ]
  },
  {
   "cell_type": "markdown",
   "metadata": {},
   "source": [
    "Since `param2` has a default value, we only need to pass `param1` to the function."
   ]
  },
  {
   "cell_type": "code",
   "execution_count": 15,
   "metadata": {},
   "outputs": [
    {
     "data": {
      "text/plain": [
       "10"
      ]
     },
     "execution_count": 15,
     "metadata": {},
     "output_type": "execute_result"
    }
   ],
   "source": [
    "# Calling the function\n",
    "function_with_default_argument(2)"
   ]
  },
  {
   "cell_type": "markdown",
   "metadata": {},
   "source": [
    "However, and if we choose so, we can overwrite `param2` as well! Even when it has a default value, it will only be relied on if nothing is passed:"
   ]
  },
  {
   "cell_type": "code",
   "execution_count": 16,
   "metadata": {},
   "outputs": [
    {
     "data": {
      "text/plain": [
       "6"
      ]
     },
     "execution_count": 16,
     "metadata": {},
     "output_type": "execute_result"
    }
   ],
   "source": [
    "function_with_default_argument(3, 2)"
   ]
  },
  {
   "cell_type": "markdown",
   "metadata": {},
   "source": [
    "This option is extremely helpful to build scalable solutions! We might have a function that, by default, does something - i.e multiply by a default value - **but** it also gives the possibility to do something else entirely - multiply by any value. This is a very strong feature of functions and you should take it with you to the future!"
   ]
  },
  {
   "cell_type": "markdown",
   "metadata": {},
   "source": [
    "## 5. Void functions\n",
    "\n",
    "Some functions perform an action and do not yeld any value. They have a similar definition as shown above, but they don't include the return statement. These are called void functions.\n",
    "\n",
    "Here is an example of a void function that greets a person. Note that we don't have a return statement!"
   ]
  },
  {
   "cell_type": "code",
   "execution_count": 17,
   "metadata": {},
   "outputs": [],
   "source": [
    "# Defining the function\n",
    "def greet(name):\n",
    "    print(\"Hello \" + name + \"!\")"
   ]
  },
  {
   "cell_type": "code",
   "execution_count": 18,
   "metadata": {},
   "outputs": [
    {
     "name": "stdout",
     "output_type": "stream",
     "text": [
      "Hello Emily!\n"
     ]
    }
   ],
   "source": [
    "# Calling the function\n",
    "greet(\"Emily\")"
   ]
  },
  {
   "cell_type": "markdown",
   "metadata": {},
   "source": [
    "## 6. Practicalities\n",
    "\n",
    "Now that the concepts are there, let's take a moment to look at some boring but necessary things about how to write functions. These are the low-level syntactical things that you must get used to in order to really add functions to your toolset as a programmer. You'll probably get stuck on these things and they will be annoying for a while but don't give up on them! You will need to practice, practice, practice in order to build up the necessary muscle memory."
   ]
  },
  {
   "cell_type": "markdown",
   "metadata": {},
   "source": [
    "### 5.1. You can do lots of stuff inside of a function\n",
    "\n",
    "Most of the examples we've seen were one-liners. However, you can have as much code as you want inside of a function as long as it is indented by 4 spaces or a tab. For example:"
   ]
  },
  {
   "cell_type": "code",
   "execution_count": 19,
   "metadata": {},
   "outputs": [],
   "source": [
    "def add_subtract_multiply_and_divide_by_3(param1, param2, param3, param4):\n",
    "    added = param1 + param2\n",
    "    subtracted = param3 - param4\n",
    "    multiplied = added * subtracted\n",
    "    div_by_3 = multiplied / 3\n",
    "    return div_by_3"
   ]
  },
  {
   "cell_type": "markdown",
   "metadata": {},
   "source": [
    "You can write all the code you want as long as the params are there!"
   ]
  },
  {
   "cell_type": "markdown",
   "metadata": {},
   "source": [
    "You can call other functions from within a function. Check out how we can re-implement `add_subtract_multiply_and_divide_by_3` with several other simpler functions:"
   ]
  },
  {
   "cell_type": "code",
   "execution_count": 20,
   "metadata": {},
   "outputs": [],
   "source": [
    "def add(a, b):\n",
    "    return a + b\n",
    "\n",
    "def subtract(a, b):\n",
    "    return a - b\n",
    "\n",
    "def multiply(a, b):\n",
    "    return a * b\n",
    "\n",
    "def divide_by_3(a):\n",
    "    return a / 3\n",
    "\n",
    "def add_subtract_multiply_and_divide_by_3(param1, param2, param3, param4):\n",
    "    added = add(param1, param2)\n",
    "    subtracted = subtract(param3, param4)\n",
    "    multiplied = multiply(added, subtracted)\n",
    "    div_by_3 = divide_by_3(multiplied)\n",
    "    return div_by_3"
   ]
  },
  {
   "cell_type": "markdown",
   "metadata": {},
   "source": [
    "Both versions should do the same thing! Once the code you are writing becomes more complicated, the importance of being able to do this should become clear. The second approach also brings more value as you may need, in the future, to only perform one of the functions instead of all of them sequentally."
   ]
  },
  {
   "cell_type": "markdown",
   "metadata": {},
   "source": [
    "### 5.2. The difference between return and print\n",
    "\n",
    "If you don't get this one right away, you're gonna have a REALLY hard time for the rest of this course. Printing and returning are not the same. Take a look at these two different functions:"
   ]
  },
  {
   "cell_type": "code",
   "execution_count": 21,
   "metadata": {},
   "outputs": [],
   "source": [
    "def add_numbers(a, b):\n",
    "    output = a + b\n",
    "    return output\n",
    "\n",
    "def print_added_numbers(a, b):\n",
    "    added = a + b\n",
    "    print(added)\n",
    "    return 666"
   ]
  },
  {
   "cell_type": "markdown",
   "metadata": {},
   "source": [
    "Now let's call them and see what happens:"
   ]
  },
  {
   "cell_type": "code",
   "execution_count": 22,
   "metadata": {},
   "outputs": [
    {
     "data": {
      "text/plain": [
       "3"
      ]
     },
     "execution_count": 22,
     "metadata": {},
     "output_type": "execute_result"
    }
   ],
   "source": [
    "add_numbers(1, 2)"
   ]
  },
  {
   "cell_type": "code",
   "execution_count": 23,
   "metadata": {},
   "outputs": [
    {
     "name": "stdout",
     "output_type": "stream",
     "text": [
      "3\n"
     ]
    },
    {
     "data": {
      "text/plain": [
       "666"
      ]
     },
     "execution_count": 23,
     "metadata": {},
     "output_type": "execute_result"
    }
   ],
   "source": [
    "print_added_numbers(1, 2)"
   ]
  },
  {
   "cell_type": "markdown",
   "metadata": {},
   "source": [
    "On the surface it looks like these function do the same thing. If you call them, they will both print the number `3` on the screen. However, `print_added_numbers` also puts the value `666` on the screen next to a red `Out[]:`\n",
    "\n",
    "Let's look at the difference between the two by trying to assign the output of them to a variable. For the first fuction:"
   ]
  },
  {
   "cell_type": "code",
   "execution_count": 24,
   "metadata": {},
   "outputs": [],
   "source": [
    "output = add_numbers(1, 2)"
   ]
  },
  {
   "cell_type": "markdown",
   "metadata": {},
   "source": [
    "Look! Nothing was printed to the screen! Now let's see what happens when we use the other one:"
   ]
  },
  {
   "cell_type": "code",
   "execution_count": 25,
   "metadata": {},
   "outputs": [
    {
     "name": "stdout",
     "output_type": "stream",
     "text": [
      "3\n"
     ]
    }
   ],
   "source": [
    "output = print_added_numbers(1, 2)"
   ]
  },
  {
   "cell_type": "markdown",
   "metadata": {},
   "source": [
    "What... it printed something. Why did this function put something on the screen and the other one didnt't?\n",
    "\n",
    "We'll take a look at that in a minute, but we did store the output of `print_added_numbers` so let's see what it looks like:"
   ]
  },
  {
   "cell_type": "code",
   "execution_count": 26,
   "metadata": {},
   "outputs": [
    {
     "data": {
      "text/plain": [
       "666"
      ]
     },
     "execution_count": 26,
     "metadata": {},
     "output_type": "execute_result"
    }
   ],
   "source": [
    "output"
   ]
  },
  {
   "cell_type": "markdown",
   "metadata": {},
   "source": [
    "This is because printing and returning are **not the same thing**. When a function returns a value, it may be stored in a variable and used later on. When a function prints something, it just appears on the screen and has NO OTHER USES whatsoever.\n",
    "\n",
    "This confusion has to do with the way that Jupyter is implemented. Whenever the return value is not stored in a variable, it will automatically print it to the screen next to a red `Out[]:`.\n",
    "\n",
    "The key thing to understand here is that returning and printing are fundamentally different. You can see it in the implementation of the `print_added_numbers` function. It prints one value and returns another one. It can do this because printing and returning are different.\n",
    "\n",
    "```py\n",
    "def print_added_numbers(a, b):\n",
    "    added = a + b\n",
    "    print(added)\n",
    "    return 666\n",
    "```\n",
    "\n",
    "This function prints the value of `a + b` but returns the constant value of `666`. Meaning that this function might be useless since it will always return the same value regardless of what parameters we pass to it."
   ]
  },
  {
   "cell_type": "markdown",
   "metadata": {},
   "source": [
    "# You did it!\n",
    "It may not be easy but you did it! **Congrats!** Try and tackle the exercises right now but feel free to come back to this notebook whenever you need! Best of luck 🍀"
   ]
  }
 ],
 "metadata": {
  "kernelspec": {
   "display_name": "Python 3",
   "language": "python",
   "name": "python3"
  },
  "language_info": {
   "codemirror_mode": {
    "name": "ipython",
    "version": 3
   },
   "file_extension": ".py",
   "mimetype": "text/x-python",
   "name": "python",
   "nbconvert_exporter": "python",
   "pygments_lexer": "ipython3",
   "version": "3.7.12"
  },
  "toc": {
   "base_numbering": 1,
   "nav_menu": {},
   "number_sections": false,
   "sideBar": true,
   "skip_h1_title": false,
   "title_cell": "Table of Contents",
   "title_sidebar": "Contents",
   "toc_cell": false,
   "toc_position": {},
   "toc_section_display": true,
   "toc_window_display": false
  },
  "varInspector": {
   "cols": {
    "lenName": 16,
    "lenType": 16,
    "lenVar": 40
   },
   "kernels_config": {
    "python": {
     "delete_cmd_postfix": "",
     "delete_cmd_prefix": "del ",
     "library": "var_list.py",
     "varRefreshCmd": "print(var_dic_list())"
    },
    "r": {
     "delete_cmd_postfix": ") ",
     "delete_cmd_prefix": "rm(",
     "library": "var_list.r",
     "varRefreshCmd": "cat(var_dic_list()) "
    }
   },
   "types_to_exclude": [
    "module",
    "function",
    "builtin_function_or_method",
    "instance",
    "_Feature"
   ],
   "window_display": false
  }
 },
 "nbformat": 4,
 "nbformat_minor": 4
}
