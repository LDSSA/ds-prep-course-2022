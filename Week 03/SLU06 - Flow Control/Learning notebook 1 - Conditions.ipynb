{
 "cells": [
  {
   "cell_type": "markdown",
   "metadata": {},
   "source": [
    "# SLU06 - Flow Control : Conditions"
   ]
  },
  {
   "cell_type": "markdown",
   "metadata": {},
   "source": [
    "In this notebook we will be covering the following:\n",
    "\n",
    "- [1. Comparison operators](#Comparison-operators)\n",
    "- [2. Combining multiple conditions with boolean algebra](#Combining-multiple-conditions-with-boolean-algebra)\n",
    "- [3. Controlling code execution with `if`, `elif` and `else` statements](#Controlling-code-execution-with-if,-elif-and-else-statements)"
   ]
  },
  {
   "cell_type": "markdown",
   "metadata": {},
   "source": [
    "# <a name=\"Comparison-operators\"></a> 1. Comparison operators"
   ]
  },
  {
   "cell_type": "markdown",
   "metadata": {},
   "source": [
    "When you ride a bike through town, you need to be careful about the conditions on the road. You need to watch out for reckless drivers, absentminded pedestrians and damaged roads. You cannot ride the same everyday, regardless of your surroundings. You have to be attentive to what happens around you and change your behaviour accordingly. The same can be said about programming. Most of the time, we need to check the results of our calculations and make decisions on how to proceed forward."
   ]
  },
  {
   "cell_type": "markdown",
   "metadata": {},
   "source": [
    "<img src=\"./media/traffic_light_small.jpg\" />\n",
    "\n",
    "<center> Good drivers stop or drive forward depending of the color of the traffic lights.</center>"
   ]
  },
  {
   "cell_type": "markdown",
   "metadata": {},
   "source": [
    "For the simple calculations that we performed until now we can write a couple of expressions and we get the results that we wanted. For other cases we'll need to have better control over the procedures. This control can be achieved by checking the values of variables and acting depending on these results.\n",
    "\n",
    "The first step to control how the calculations are being performed is to have a way to evaluate the values of our variables. At any time, we can ask Python if a certain condition is met. With traffic lights, the drivers only drive forward if the light is green. If the conditions change and the light is red, the drivers stop (hopefully). We can also ask for the age of the individual and compare it with ours to see if we are younger or older than him/her.\n",
    "**Comparison operators** are used to compare two values.\n",
    "\n",
    "One such operator is the equal operator `==` that tests if two values **are equal**. Do **not** confuse with the assignment operator `=`."
   ]
  },
  {
   "cell_type": "code",
   "execution_count": 10,
   "metadata": {},
   "outputs": [
    {
     "name": "stdout",
     "output_type": "stream",
     "text": [
      "Is 1 == 1?  True\n",
      "Is 1 == 2?  False\n"
     ]
    }
   ],
   "source": [
    "print(\"Is 1 == 1? \", 1 == 1)\n",
    "print(\"Is 1 == 2? \", 1 == 2)"
   ]
  },
  {
   "cell_type": "markdown",
   "metadata": {},
   "source": [
    "The result of the `==` operator is a boolean that indicates if the equality is true or false. \n",
    "\n",
    "**All comparison operators return a boolean as the result, are binary operators and have left-sided binding.**"
   ]
  },
  {
   "cell_type": "markdown",
   "metadata": {},
   "source": [
    "The comparison operators have **lower priority** than the arithmetic operators but **higher priority** than the assignment operator `=`."
   ]
  },
  {
   "cell_type": "code",
   "execution_count": 11,
   "metadata": {},
   "outputs": [
    {
     "name": "stdout",
     "output_type": "stream",
     "text": [
      "True\n",
      "False\n"
     ]
    }
   ],
   "source": [
    "#The arithmetic operator + has higher precedence and is performed first. \n",
    "print(3 == 1 + 2)\n",
    "\n",
    "#The comparison operator == has higher precedence and is performed first.\n",
    "var = 1 == 2\n",
    "print(var)"
   ]
  },
  {
   "cell_type": "markdown",
   "metadata": {},
   "source": [
    "Of course you can use variables on the comparisons."
   ]
  },
  {
   "cell_type": "code",
   "execution_count": 12,
   "metadata": {},
   "outputs": [
    {
     "data": {
      "text/plain": [
       "False"
      ]
     },
     "execution_count": 12,
     "metadata": {},
     "output_type": "execute_result"
    }
   ],
   "source": [
    "counter = 4\n",
    "limit = 5\n",
    "counter == limit"
   ]
  },
  {
   "cell_type": "markdown",
   "metadata": {},
   "source": [
    "The other comparison operators that you can use are:\n",
    "- `>` $~~~$*greater than* \n",
    "- `>=` $~$*greater than or equal to*\n",
    "- `<` $~~~$*less than*\n",
    "- `<=` $~$*less than or equal to*\n",
    "- `!=` $~$*not equal to*"
   ]
  },
  {
   "cell_type": "markdown",
   "metadata": {},
   "source": [
    "For numeric comparisons the operators behave as expected. There are some nuances for string comparisons.\n",
    "The operator `==` tests if both strings are **exactly** the same. The operator `!=` tests if both strings are **not exactly** the same. "
   ]
  },
  {
   "cell_type": "code",
   "execution_count": 13,
   "metadata": {},
   "outputs": [
    {
     "name": "stdout",
     "output_type": "stream",
     "text": [
      "True\n",
      "False\n"
     ]
    }
   ],
   "source": [
    "print(\"The safe word is Banana!\" == \"The safe word is Banana!\")\n",
    "\n",
    "print(\"The safe word is Banana!\" != \"The safe word is Banana!\")"
   ]
  },
  {
   "cell_type": "markdown",
   "metadata": {},
   "source": [
    "---"
   ]
  },
  {
   "cell_type": "markdown",
   "metadata": {},
   "source": [
    "The relation between strings is determined by the **first different** character in both strings.\n",
    "\n",
    "If a string is **identical** to a shorter string but with additional characters at the end, the longer string is considered **greater** than the shorter."
   ]
  },
  {
   "cell_type": "code",
   "execution_count": 14,
   "metadata": {},
   "outputs": [
    {
     "name": "stdout",
     "output_type": "stream",
     "text": [
      "True\n"
     ]
    }
   ],
   "source": [
    "#Both strings start with 'pyro' but the second has additional characters.\n",
    "print('pyro' < 'pyromaniac')"
   ]
  },
  {
   "cell_type": "markdown",
   "metadata": {},
   "source": [
    "When comparing characters Python uses the **code point value** of each character. The code point value is an **integer value** attributed to each character. Computers only deal with numbers and so each character has a kind of a numeric ID (code point value) that a computer can understand. The \"ID\" of a character is a decimal-based integer value determined by [Unicode](https://altcodeunicode.com/unicode-character-lookup-table/). On the website you can search for the code point value in the \"Code Point DECimal\" column.\n",
    "\n",
    "Basically, each character has an associated decimal-based integer value that can be used to compare characters.\n",
    "\n",
    "The code point value of a character can be determined with the function `ord()`. To find the character with a specific code point value the function `chr()` can be called."
   ]
  },
  {
   "cell_type": "code",
   "execution_count": 15,
   "metadata": {},
   "outputs": [
    {
     "name": "stdout",
     "output_type": "stream",
     "text": [
      "The code point value of C is: 67\n",
      "The code point value of D is: 68\n",
      "The code point value of c is: 99\n",
      "The code point value of d is: 100\n"
     ]
    }
   ],
   "source": [
    "print(\"The code point value of C is: {}\".format(ord(\"C\")))\n",
    "print(\"The code point value of D is: {}\".format(ord(\"D\")))\n",
    "print(\"The code point value of c is: {}\".format(ord(\"c\")))\n",
    "print(\"The code point value of d is: {}\".format(ord(\"d\")))"
   ]
  },
  {
   "cell_type": "code",
   "execution_count": 16,
   "metadata": {},
   "outputs": [
    {
     "name": "stdout",
     "output_type": "stream",
     "text": [
      "The character with code point value 88 is: X\n"
     ]
    }
   ],
   "source": [
    "print(\"The character with code point value 88 is: {}\".format(chr(88)))"
   ]
  },
  {
   "cell_type": "markdown",
   "metadata": {},
   "source": [
    "Pythons uses these values to evaluate if a character, and by consequence a string, is larger or smaller than another."
   ]
  },
  {
   "cell_type": "code",
   "execution_count": 17,
   "metadata": {},
   "outputs": [
    {
     "name": "stdout",
     "output_type": "stream",
     "text": [
      "Is D > C? True\n",
      "Is D > c? False\n"
     ]
    }
   ],
   "source": [
    "print(\"Is D > C? {}\".format(\"D\" > \"C\"))\n",
    "print(\"Is D > c? {}\".format(\"D\" > \"c\"))"
   ]
  },
  {
   "cell_type": "markdown",
   "metadata": {},
   "source": [
    "---"
   ]
  },
  {
   "cell_type": "markdown",
   "metadata": {},
   "source": [
    "For the latin alphabet, the **upper-case** letters appear **before** the **lower-case** letter in the Unicode table. This means that **any upper-case letter has a lower code point value than any lower-case letter**. The opposite is also true, **any lower-case letter has a higher code point value than any upper-case letter**."
   ]
  },
  {
   "cell_type": "code",
   "execution_count": 18,
   "metadata": {},
   "outputs": [
    {
     "name": "stdout",
     "output_type": "stream",
     "text": [
      "Is X < a? True\n",
      "Is a > A? True\n",
      "Is apple > Apple? True\n"
     ]
    }
   ],
   "source": [
    "print(\"Is X < a? {}\".format(\"X\" < \"a\"))\n",
    "print(\"Is a > A? {}\".format(\"a\" > \"A\"))\n",
    "print(\"Is apple > Apple? {}\".format(\"apple\" > \"Apple\"))"
   ]
  },
  {
   "cell_type": "markdown",
   "metadata": {},
   "source": [
    "---"
   ]
  },
  {
   "cell_type": "markdown",
   "metadata": {},
   "source": [
    "Be careful with strings that only contain digits. The digits are still **characters** of a string. The comparison operators will check the code point value **character by character**."
   ]
  },
  {
   "cell_type": "code",
   "execution_count": 19,
   "metadata": {},
   "outputs": [
    {
     "name": "stdout",
     "output_type": "stream",
     "text": [
      "Is \"10\" == \"010\"? False\n",
      "Is \"10\" > \"010\"? True\n",
      "Is \"10\" > \"7\"? False\n",
      "Is \"20\" < \"7\"? True\n",
      "Is \"20\" < \"70\"? True\n"
     ]
    }
   ],
   "source": [
    "print(\"Is \\\"10\\\" == \\\"010\\\"? {}\".format(\"10\" == \"010\"))\n",
    "print(\"Is \\\"10\\\" > \\\"010\\\"? {}\".format(\"10\" > \"010\"))\n",
    "print(\"Is \\\"10\\\" > \\\"7\\\"? {}\".format(\"10\" > \"7\"))\n",
    "print(\"Is \\\"20\\\" < \\\"7\\\"? {}\".format(\"20\" < \"7\"))\n",
    "print(\"Is \\\"20\\\" < \\\"70\\\"? {}\".format(\"20\" < \"70\"))"
   ]
  },
  {
   "cell_type": "markdown",
   "metadata": {},
   "source": [
    "---"
   ]
  },
  {
   "cell_type": "markdown",
   "metadata": {},
   "source": [
    "**Don't compare strings with numbers**. The `==` and `!=` always return `False` and `True`, respectively. The remaining operators will raise a `TypeError`."
   ]
  },
  {
   "cell_type": "code",
   "execution_count": 20,
   "metadata": {},
   "outputs": [
    {
     "name": "stdout",
     "output_type": "stream",
     "text": [
      "Is \"10\" == 10? False\n",
      "Is \"10\" != 10? True\n"
     ]
    },
    {
     "ename": "TypeError",
     "evalue": "'>=' not supported between instances of 'str' and 'int'",
     "output_type": "error",
     "traceback": [
      "\u001b[0;31m---------------------------------------------------------------------------\u001b[0m",
      "\u001b[0;31mTypeError\u001b[0m                                 Traceback (most recent call last)",
      "\u001b[0;32m/tmp/ipykernel_9913/341787457.py\u001b[0m in \u001b[0;36m<module>\u001b[0;34m\u001b[0m\n\u001b[1;32m      1\u001b[0m \u001b[0mprint\u001b[0m\u001b[0;34m(\u001b[0m\u001b[0;34m\"Is \\\"10\\\" == 10? {}\"\u001b[0m\u001b[0;34m.\u001b[0m\u001b[0mformat\u001b[0m\u001b[0;34m(\u001b[0m\u001b[0;34m\"10\"\u001b[0m \u001b[0;34m==\u001b[0m \u001b[0;36m10\u001b[0m\u001b[0;34m)\u001b[0m\u001b[0;34m)\u001b[0m\u001b[0;34m\u001b[0m\u001b[0;34m\u001b[0m\u001b[0m\n\u001b[1;32m      2\u001b[0m \u001b[0mprint\u001b[0m\u001b[0;34m(\u001b[0m\u001b[0;34m\"Is \\\"10\\\" != 10? {}\"\u001b[0m\u001b[0;34m.\u001b[0m\u001b[0mformat\u001b[0m\u001b[0;34m(\u001b[0m\u001b[0;34m\"10\"\u001b[0m \u001b[0;34m!=\u001b[0m \u001b[0;36m10\u001b[0m\u001b[0;34m)\u001b[0m\u001b[0;34m)\u001b[0m\u001b[0;34m\u001b[0m\u001b[0;34m\u001b[0m\u001b[0m\n\u001b[0;32m----> 3\u001b[0;31m \u001b[0mprint\u001b[0m\u001b[0;34m(\u001b[0m\u001b[0;34m\"Is \\\"10\\\" >= 10? {}\"\u001b[0m\u001b[0;34m.\u001b[0m\u001b[0mformat\u001b[0m\u001b[0;34m(\u001b[0m\u001b[0;34m\"10\"\u001b[0m \u001b[0;34m>=\u001b[0m \u001b[0;36m10\u001b[0m\u001b[0;34m)\u001b[0m\u001b[0;34m)\u001b[0m\u001b[0;34m\u001b[0m\u001b[0;34m\u001b[0m\u001b[0m\n\u001b[0m",
      "\u001b[0;31mTypeError\u001b[0m: '>=' not supported between instances of 'str' and 'int'"
     ]
    }
   ],
   "source": [
    "print(\"Is \\\"10\\\" == 10? {}\".format(\"10\" == 10))\n",
    "print(\"Is \\\"10\\\" != 10? {}\".format(\"10\" != 10))\n",
    "print(\"Is \\\"10\\\" >= 10? {}\".format(\"10\" >= 10))"
   ]
  },
  {
   "cell_type": "markdown",
   "metadata": {},
   "source": [
    "---"
   ]
  },
  {
   "cell_type": "markdown",
   "metadata": {},
   "source": [
    "# <a name=\"Combining-multiple-conditions-with-boolean-algebra\"></a> 2. Combining multiple conditions with boolean algebra"
   ]
  },
  {
   "cell_type": "markdown",
   "metadata": {},
   "source": [
    "There are situations where testing one condition is not enough. For instance, to get the driver's license it is required to be over 18 (generally) **and** know how to read **and** pass the written exam **and** pass the driving exam. Only if all conditions are met is the license given.\n",
    "\n",
    "In Python, we are not limited to using a single comparison operator in an expression. We can use as many as you need. To do so, we use **boolean algebra**."
   ]
  },
  {
   "cell_type": "markdown",
   "metadata": {},
   "source": [
    "<img src=\"./media/not_the_bees_small.png\" />"
   ]
  },
  {
   "cell_type": "markdown",
   "metadata": {},
   "source": [
    "Boolean Algebra is a field of algebra that deals with variables with the truth values *True* and *False*. While elementary algebra has operations such as $+$, $-$, $\\times$ and $\\div$, boolean algebra has the basic operators:\n",
    "\n",
    "- **and**, called conjunction, is denoted as x∧y and is binary.\n",
    "- **or**, called disjunction, is denoted as x∨y and is binary.\n",
    "- **not**, called negation, is denoted ¬x and is unary.\n",
    "\n",
    "The boolean operators have **lower** precedence than the comparison operators. All comparisons are performed **before** the boolean operators are executed."
   ]
  },
  {
   "cell_type": "markdown",
   "metadata": {},
   "source": [
    "---"
   ]
  },
  {
   "cell_type": "markdown",
   "metadata": {},
   "source": [
    "The `and` operator checks if the left and right conditions are **simultaneously** `True`. If this is the case the result is `True`. Otherwise it returns `False`."
   ]
  },
  {
   "cell_type": "code",
   "execution_count": 23,
   "metadata": {},
   "outputs": [
    {
     "name": "stdout",
     "output_type": "stream",
     "text": [
      "True\n",
      "False\n"
     ]
    }
   ],
   "source": [
    "#Both the left and right conditions are True. The and operator returns True.\n",
    "print(1 == 1 and 3.5 > 2.2)\n",
    "\n",
    "#The left condition is True but the right condition is False. The and operator returns False.\n",
    "print(3 >= 3 and \"Banana\" == \"banana\")"
   ]
  },
  {
   "cell_type": "markdown",
   "metadata": {},
   "source": [
    "---"
   ]
  },
  {
   "cell_type": "markdown",
   "metadata": {},
   "source": [
    "The `or` operator checks if **any** of the two conditions are **`True`**. If this is the case the result is `True`. If both conditions are false then it returns `False`."
   ]
  },
  {
   "cell_type": "code",
   "execution_count": 24,
   "metadata": {},
   "outputs": [
    {
     "name": "stdout",
     "output_type": "stream",
     "text": [
      "False\n",
      "True\n"
     ]
    }
   ],
   "source": [
    "#Both the left and right conditions are False. The or operator returns False.\n",
    "print(1 != 1 or 3.5 < 2.2)\n",
    "\n",
    "#The left condition is True but the right condition is False. The or operator returns True.\n",
    "print(3 >= 3 or \"Banana\" == \"banana\")"
   ]
  },
  {
   "cell_type": "markdown",
   "metadata": {},
   "source": [
    "---"
   ]
  },
  {
   "cell_type": "markdown",
   "metadata": {},
   "source": [
    "The `not` operator **negates** the value of the condition on the **right**. This means that if the condition is `True` it becomes `False` and if the condition is `False` it becomes `True`."
   ]
  },
  {
   "cell_type": "code",
   "execution_count": 25,
   "metadata": {},
   "outputs": [
    {
     "name": "stdout",
     "output_type": "stream",
     "text": [
      "False\n",
      "True\n"
     ]
    }
   ],
   "source": [
    "print(not True)\n",
    "\n",
    "#The comparison operator != is executed first and returns False. The not operator then turns False into True.\n",
    "print(not 1 != 1)"
   ]
  },
  {
   "cell_type": "markdown",
   "metadata": {},
   "source": [
    "---"
   ]
  },
  {
   "cell_type": "markdown",
   "metadata": {},
   "source": [
    "The outcome of the boolean operators is summarized in the next table. Computers operate only with 0's and 1's. They don't know what `True` and `False` are. What computers see as 0, we interpret as `False` and what computers see as 1, it means `True` to us. You can read the table as having `False` in place of the 0's and `True` in place of the 1's."
   ]
  },
  {
   "cell_type": "markdown",
   "metadata": {},
   "source": [
    "<img src=\"./media/boolean_algebra_small.jpg\" />"
   ]
  },
  {
   "cell_type": "markdown",
   "metadata": {},
   "source": [
    "This table can be found on the [wikipedia page on boolean algebra](https://en.wikipedia.org/wiki/Boolean_algebra). On the left are the input boolean values expressed as integers. Below the operations are the resulting boolean values expressed as integers."
   ]
  },
  {
   "cell_type": "markdown",
   "metadata": {},
   "source": [
    "---"
   ]
  },
  {
   "cell_type": "markdown",
   "metadata": {},
   "source": [
    "Between the boolean operators, the `not` operator has the **highest** precedence, followed by `and` and then `or` with the **lowest** precedence.\n",
    "\n",
    "Next are two examples that highlight the importance of the *operator precedence* on the outcome of boolean expressions. I recommend that you review these examples as many times as you need. Writing a wrong boolean expression can produce erroneous results leading to prolonged periods of debugging and anguish. Spend some time on planning the boolean expression before writing it."
   ]
  },
  {
   "cell_type": "markdown",
   "metadata": {},
   "source": [
    "<img src=\"./media/tired.gif\" />\n",
    "\n",
    "<center> This is you after debugging a boolean expression. </center>"
   ]
  },
  {
   "cell_type": "markdown",
   "metadata": {},
   "source": [
    "Consider the first example:"
   ]
  },
  {
   "cell_type": "code",
   "execution_count": 26,
   "metadata": {},
   "outputs": [
    {
     "data": {
      "text/plain": [
       "True"
      ]
     },
     "execution_count": 26,
     "metadata": {},
     "output_type": "execute_result"
    }
   ],
   "source": [
    "True or True and False or False"
   ]
  },
  {
   "cell_type": "markdown",
   "metadata": {},
   "source": [
    "The `and` operator has higher precedence than `or`, therefore it is executed first.\n",
    "\n",
    "The expression is equivalent to:"
   ]
  },
  {
   "cell_type": "code",
   "execution_count": 27,
   "metadata": {},
   "outputs": [
    {
     "data": {
      "text/plain": [
       "True"
      ]
     },
     "execution_count": 27,
     "metadata": {},
     "output_type": "execute_result"
    }
   ],
   "source": [
    "True or (True and False) or False"
   ]
  },
  {
   "cell_type": "markdown",
   "metadata": {},
   "source": [
    "I would argue that this format is easier to read than the previous.\n",
    "\n",
    "Now if you **mistook the order of precedence** and considered `or` to have higher precedence than `and` you would be expecting a result equivalent to:"
   ]
  },
  {
   "cell_type": "code",
   "execution_count": 28,
   "metadata": {},
   "outputs": [
    {
     "data": {
      "text/plain": [
       "False"
      ]
     },
     "execution_count": 28,
     "metadata": {},
     "output_type": "execute_result"
    }
   ],
   "source": [
    "(True or True) and (False or False)"
   ]
  },
  {
   "cell_type": "markdown",
   "metadata": {},
   "source": [
    "which is **not** the same as before. "
   ]
  },
  {
   "cell_type": "markdown",
   "metadata": {},
   "source": [
    "---"
   ]
  },
  {
   "cell_type": "markdown",
   "metadata": {},
   "source": [
    "The second example is:"
   ]
  },
  {
   "cell_type": "code",
   "execution_count": 29,
   "metadata": {},
   "outputs": [
    {
     "data": {
      "text/plain": [
       "True"
      ]
     },
     "execution_count": 29,
     "metadata": {},
     "output_type": "execute_result"
    }
   ],
   "source": [
    "not False or not False and True"
   ]
  },
  {
   "cell_type": "markdown",
   "metadata": {},
   "source": [
    "The first operators to be executed are `not`. Then `and` and finally `or`.\n",
    "\n",
    "Taking the precedence order into account, the example is equivalent to:"
   ]
  },
  {
   "cell_type": "code",
   "execution_count": 30,
   "metadata": {},
   "outputs": [
    {
     "data": {
      "text/plain": [
       "True"
      ]
     },
     "execution_count": 30,
     "metadata": {},
     "output_type": "execute_result"
    }
   ],
   "source": [
    "(not False) or ((not False) and True)"
   ]
  },
  {
   "cell_type": "markdown",
   "metadata": {},
   "source": [
    "Again if the precedence order is not well understood and you expected a result like:"
   ]
  },
  {
   "cell_type": "code",
   "execution_count": 31,
   "metadata": {},
   "outputs": [
    {
     "data": {
      "text/plain": [
       "False"
      ]
     },
     "execution_count": 31,
     "metadata": {},
     "output_type": "execute_result"
    }
   ],
   "source": [
    "not (False or not (False and True))"
   ]
  },
  {
   "cell_type": "markdown",
   "metadata": {},
   "source": [
    "you are going to have a bad day."
   ]
  },
  {
   "cell_type": "markdown",
   "metadata": {},
   "source": [
    "---"
   ]
  },
  {
   "cell_type": "markdown",
   "metadata": {},
   "source": [
    "When chaining multiple comparisons together, you can use parenthesis `()` to modify the order of execution of the operators. The parenthesis segment the statement into sub-expressions that are evaluated first.\n",
    "\n",
    "It is good practice to **use parenthesis to improve the readability** of the operations even if the precedence of the operations doesn't change with their inclusion. This way, even if the programmer or someone that is reading the code does not remember the complete *table of precedence* they know that parenthesis take precedence over everything else. For complex comparison statements, this can considerably reduce the time and mental effort that it takes to understand them. \n",
    "\n",
    "A [supplementary recommendation](https://www.python.org/dev/peps/pep-0008/#other-recommendations) is to remove the white spaces around the binary operators that have **higher** precedence. This produces a visual sign that these operators are executed first.\n",
    "\n"
   ]
  },
  {
   "cell_type": "markdown",
   "metadata": {},
   "source": [
    "Take a look at the code below. It is not easy to understand. We have to remember the order of each operation and decompose it into smaller pieces until we have the final result."
   ]
  },
  {
   "cell_type": "code",
   "execution_count": 32,
   "metadata": {},
   "outputs": [
    {
     "data": {
      "text/plain": [
       "False"
      ]
     },
     "execution_count": 32,
     "metadata": {},
     "output_type": "execute_result"
    }
   ],
   "source": [
    "a = 1\n",
    "b = 2\n",
    "c = 3\n",
    "not 4 * c + 2 * a != 3 + 1 and b + c * a > a * a or a * c > 3 * b"
   ]
  },
  {
   "cell_type": "markdown",
   "metadata": {},
   "source": [
    "The same expression rewritten with parenthesis and reduced spaces is visually appealing. The order of execution is much clearer and easier to follow."
   ]
  },
  {
   "cell_type": "code",
   "execution_count": 33,
   "metadata": {},
   "outputs": [
    {
     "data": {
      "text/plain": [
       "False"
      ]
     },
     "execution_count": 33,
     "metadata": {},
     "output_type": "execute_result"
    }
   ],
   "source": [
    "a = 1\n",
    "b = 2\n",
    "c = 3\n",
    "not (4*c + 2*a != 3+1) and (b + c*a > a*a) or (a*c > 3*b)"
   ]
  },
  {
   "cell_type": "markdown",
   "metadata": {},
   "source": [
    "**So remember:**"
   ]
  },
  {
   "cell_type": "markdown",
   "metadata": {},
   "source": [
    "<img src=\"./media/drake_meme_small.png\" />"
   ]
  },
  {
   "cell_type": "markdown",
   "metadata": {},
   "source": [
    "To wrap up this section here is the updated *table of precedence* with the comparison and boolean operators. You can see the complete table of precedence [here](https://docs.python.org/3/reference/expressions.html#operator-precedence)."
   ]
  },
  {
   "cell_type": "markdown",
   "metadata": {},
   "source": [
    "<img src=\"./media/new_order_complete_small.jpg\" />"
   ]
  },
  {
   "cell_type": "markdown",
   "metadata": {},
   "source": [
    "---"
   ]
  },
  {
   "cell_type": "markdown",
   "metadata": {},
   "source": [
    "Extra: Since the boolean values in Python are a sub-class of integers, you can perform the elementary algebra operations on booleans. You should be careful when mixing **elementary operators** with **boolean values**. In some cases this is a very useful technique but can lead to confusion and wrong results if misused."
   ]
  },
  {
   "cell_type": "markdown",
   "metadata": {},
   "source": [
    "---"
   ]
  },
  {
   "cell_type": "markdown",
   "metadata": {},
   "source": [
    "# <a name=\"Controlling-code-execution-with-if,-elif-and-else-statements\"></a> 3. Controlling code execution with `if`, `elif` and `else` statements"
   ]
  },
  {
   "cell_type": "markdown",
   "metadata": {},
   "source": [
    "We make a lot of decisions every day. How to dress for work. What to make for dinner. The list goes on. Some of these decisions depend on certain **conditions**. If it's sunny you wear sunglasses. If it's raining you bring an umbrella."
   ]
  },
  {
   "cell_type": "markdown",
   "metadata": {},
   "source": [
    "<img src=\"./media/men_walking.jpg\" />\n",
    "\n",
    "<center> Don't be like this silly man. Check your conditions and wear appropriate attire. </center>"
   ]
  },
  {
   "cell_type": "markdown",
   "metadata": {},
   "source": [
    "Likewise, you may want your code to perform different actions depending on conditions. To control what your code does we can think of this like following a *flowchart*. \n",
    "\n",
    "Take the flowchart below as an example.\n",
    "You start with an initial status (blue box). Then you check what is the weather forecast for the day (yellow box). Depending on the forecast you can either: \n",
    "\n",
    "A) perform an action (green box) or;\n",
    "\n",
    "B) check the next condition (yellow box).\n",
    "\n",
    "You follow the flowchart until you reach an action to perform (green box).\n",
    "\n",
    "We'll see examples of how this approach can be reflected in our code and thus make it more adaptable."
   ]
  },
  {
   "cell_type": "markdown",
   "metadata": {},
   "source": [
    "<img src=\"./media/sample_diagram.jpg\" />"
   ]
  },
  {
   "cell_type": "markdown",
   "metadata": {},
   "source": [
    "---"
   ]
  },
  {
   "cell_type": "markdown",
   "metadata": {},
   "source": [
    "### `if` statement"
   ]
  },
  {
   "cell_type": "markdown",
   "metadata": {},
   "source": [
    "We have seen previously that we can use variables and operators to perform calculations. We might want to perform different operations depending on certain conditions. **Conditional statements** are used to decide which operations to perform. We can use an `if` statement to test a condition and execute code if the condition is `True`.\n",
    "\n",
    "```python\n",
    "if condition:\n",
    "    code_to_execute\n",
    "```"
   ]
  },
  {
   "cell_type": "markdown",
   "metadata": {},
   "source": [
    "A basic conditional statement is composed of the following elements in this order:\n",
    "\n",
    "1. `if` keyword;\n",
    "2. one or more white spaces;\n",
    "3. a condition whose boolean result (`True` or `False`) determines if the next instruction(s) should be executed;\n",
    "4. a colon `:` and a newline;\n",
    "5. the **indented** instruction(s) to execute. At least **one** instruction is necessary.\n",
    "\n",
    "The indendation can be created in one of two ways:\n",
    "- inserting 4 spaces;\n",
    "- using the *tab* character.\n",
    "\n",
    "It is [recommended](https://www.python.org/dev/peps/pep-0008/#tabs-or-spaces) to use 4 spaces. It is important to **not mix** both methods together; it might prevent the code from executing correctly. Note: on the Jupyter notebooks when using the *tab* character it may write 4 spaces instead. It is a useful feature as long you don't forget that there are effectively 4 spaces. Check for your specific configuration if this is the case."
   ]
  },
  {
   "cell_type": "markdown",
   "metadata": {},
   "source": [
    "If the `condition` returns `True` then the `code_to_execute` is **executed**. Otherwise, `code_to_execute` is **ignored**. The `code_to_execute` can be composed of any number of instructions. \n",
    "Other expressions can be added before and after the `if` statement."
   ]
  },
  {
   "cell_type": "markdown",
   "metadata": {},
   "source": [
    "```python\n",
    "initial_code\n",
    "\n",
    "if condition:\n",
    "    code_to_execute\n",
    "    \n",
    "final_code\n",
    "```"
   ]
  },
  {
   "cell_type": "markdown",
   "metadata": {},
   "source": [
    "In this case Python starts by executing `initial_code`. It then tests if `condition` is `True`. If so, `code_to_execute` is executed. Otherwise, `code_to_execute` is ignored. Then, regardless of `code_to_execute` being executed or ignored, `final_code` is executed.\n",
    "\n",
    "Let's consider a practical example."
   ]
  },
  {
   "cell_type": "code",
   "execution_count": 34,
   "metadata": {},
   "outputs": [
    {
     "name": "stdout",
     "output_type": "stream",
     "text": [
      "What should I do today?\n",
      "I'm going for a walk.\n",
      "It is decided then!\n"
     ]
    }
   ],
   "source": [
    "weather = \"Sunny\"\n",
    "print(\"What should I do today?\")\n",
    "\n",
    "if weather == \"Sunny\":\n",
    "    print(\"I'm going for a walk.\")\n",
    "    \n",
    "print(\"It is decided then!\")"
   ]
  },
  {
   "cell_type": "markdown",
   "metadata": {},
   "source": [
    "The first `print()` function is always called. Then, because the variable `weather` has the value `\"Sunny\"`, the condition in the `if` statement is `True`, the second `print()` function is called. After that, the third `print()` is called.\n",
    "\n",
    "If weather has a different value than `\"Sunny\"` the second print is not called:"
   ]
  },
  {
   "cell_type": "code",
   "execution_count": 35,
   "metadata": {},
   "outputs": [
    {
     "name": "stdout",
     "output_type": "stream",
     "text": [
      "What should I do today?\n",
      "It is decided then!\n"
     ]
    }
   ],
   "source": [
    "weather = \"Rainy\"\n",
    "print(\"What should I do today?\")\n",
    "\n",
    "if weather == \"Sunny\":\n",
    "    print(\"I'm going for a walk.\")\n",
    "    \n",
    "print(\"It is decided then!\")"
   ]
  },
  {
   "cell_type": "markdown",
   "metadata": {},
   "source": [
    "If you want to verify both types of weather you could do something like this:"
   ]
  },
  {
   "cell_type": "code",
   "execution_count": 36,
   "metadata": {},
   "outputs": [
    {
     "name": "stdout",
     "output_type": "stream",
     "text": [
      "What should I do today?\n",
      "I'm going to stay at home.\n",
      "It is decided then!\n"
     ]
    }
   ],
   "source": [
    "weather = \"Rainy\"\n",
    "print(\"What should I do today?\")\n",
    "\n",
    "if weather == \"Sunny\":\n",
    "    print(\"I'm going for a walk.\") #Execute if Sunny.\n",
    "    \n",
    "if weather == \"Rainy\":\n",
    "    print(\"I'm going to stay at home.\") #Execute if Rainy.  \n",
    "    \n",
    "print(\"It is decided then!\")"
   ]
  },
  {
   "cell_type": "markdown",
   "metadata": {},
   "source": [
    "### `else` statement"
   ]
  },
  {
   "cell_type": "markdown",
   "metadata": {},
   "source": [
    "But... there is a better way.\n",
    "We can use the `else` keyword and colon `:` to define the code that we want to execute if the condition is **false**. Note that the code to be executed has to be **indented** as well."
   ]
  },
  {
   "cell_type": "markdown",
   "metadata": {},
   "source": [
    "```python\n",
    "initial_code\n",
    "\n",
    "if condition:\n",
    "    code_to_execute1\n",
    "else:\n",
    "    code_to_execute2\n",
    "    \n",
    "final_code\n",
    "```"
   ]
  },
  {
   "cell_type": "markdown",
   "metadata": {},
   "source": [
    "Here `code_to_execute1` is executed if condition is `True` and `code_to_execute2` is executed if condition is `False`. Independently of the conditions, **only one of the code blocks is executed.**"
   ]
  },
  {
   "cell_type": "markdown",
   "metadata": {},
   "source": [
    "Returning to the example:"
   ]
  },
  {
   "cell_type": "code",
   "execution_count": 37,
   "metadata": {},
   "outputs": [
    {
     "name": "stdout",
     "output_type": "stream",
     "text": [
      "What should I do today?\n",
      "I'm going to stay at home.\n",
      "It is decided then!\n"
     ]
    }
   ],
   "source": [
    "weather = \"Rainy\"\n",
    "print(\"What should I do today?\")\n",
    "\n",
    "if weather == \"Sunny\":\n",
    "    print(\"I'm going for a walk.\") #Execute if Sunny.\n",
    "else:\n",
    "    print(\"I'm going to stay at home.\") #Execute if NOT Sunny.\n",
    "print(\"It is decided then!\")"
   ]
  },
  {
   "cell_type": "markdown",
   "metadata": {},
   "source": [
    "In this case the condition is false and so the code `print(\"I'm going for a walk.\")` is **not** executed. On the contrary, the code after `else:` (`print(\"I'm going to stay at home.\")`) is executed. The code after the `else:` statement is executed for **any value of `weather` different from `\"Sunny\"`**; being it `\"Rainy\"` or any other weather status. "
   ]
  },
  {
   "cell_type": "markdown",
   "metadata": {},
   "source": [
    "### `elif` statement"
   ]
  },
  {
   "cell_type": "markdown",
   "metadata": {},
   "source": [
    "The code after the `else` statement is executed for **any** value of `weather` that is different from \"Sunny\", not only \"Rainy\".\n",
    "You might be wondering: what if I want to use more conditions like \"Foggy\" or \"Cloudy\"? Do I have to make pairs of code for each condition?\n",
    "There is another statement that can help us in this case. The statement `elif` allows to use multiple pairs of condition-code in the same `if` statement."
   ]
  },
  {
   "cell_type": "markdown",
   "metadata": {},
   "source": [
    "```python\n",
    "initial_code\n",
    "\n",
    "if condition1:\n",
    "    code_to_execute1\n",
    "elif condition2:\n",
    "    code_to_execute2\n",
    "elif condition3:\n",
    "    code_to_execute3\n",
    "elif condition4:\n",
    "    code_to_execute4\n",
    "else:\n",
    "    code_to_execute5\n",
    "    \n",
    "final_code\n",
    "```"
   ]
  },
  {
   "cell_type": "markdown",
   "metadata": {},
   "source": [
    "The `elif` statements can be interpreted as \"if all the above conditions are false and **this condition is true** then the next code is to be executed\". The `else` statement can be interpreted as \"if all the above conditions are false then the next code is to be executed\". \n",
    "\n",
    "The `elif` statement has to be placed **after** the `if` statement and **before** the `else` statement. You can add as many `elif` statements as needed but you **cannot have more than one** `else` statement for the **each `if` statement**."
   ]
  },
  {
   "cell_type": "code",
   "execution_count": 38,
   "metadata": {
    "scrolled": true
   },
   "outputs": [
    {
     "name": "stdout",
     "output_type": "stream",
     "text": [
      "What should I do today?\n",
      "I'm going to stay at home.\n",
      "It is decided then!\n"
     ]
    }
   ],
   "source": [
    "weather = \"Rainy\"\n",
    "print(\"What should I do today?\")\n",
    "\n",
    "if weather == \"Sunny\":\n",
    "    print(\"I'm going for a walk.\") #Execute if Sunny.\n",
    "elif weather == \"Rainy\":\n",
    "    print(\"I'm going to stay at home.\") #Execute if Rainy.\n",
    "else:\n",
    "    print(\"I'm going shopping.\")\n",
    "print(\"It is decided then!\")"
   ]
  },
  {
   "cell_type": "markdown",
   "metadata": {},
   "source": [
    "As before, only **one of the code blocks is executed**. In fact, only the **first true condition** is considered and the corresponding code is executed. The next conditions are **ignored** even if they are true.\n",
    "\n",
    "In the next example we use a numeric value that fulfills more than one condition. "
   ]
  },
  {
   "cell_type": "code",
   "execution_count": 39,
   "metadata": {},
   "outputs": [
    {
     "name": "stdout",
     "output_type": "stream",
     "text": [
      "Larger than 50\n"
     ]
    }
   ],
   "source": [
    "number = 999\n",
    "how_large = \"Large Number\"\n",
    "\n",
    "if number > 50:\n",
    "    how_large = \"Larger than 50\"\n",
    "elif number > 100:\n",
    "    how_large = \"Larger than 100\"\n",
    "else:\n",
    "    how_large = \"Smaller than or equal to 50\"\n",
    "    \n",
    "print(how_large)"
   ]
  },
  {
   "cell_type": "markdown",
   "metadata": {},
   "source": [
    "The variable `number` has value `999` and so both conditions `number > 50` and `number > 100` are `True`. But because only the **first true condition** is evaluated the new value of `how_large` is `\"Larger than 50\"`.\n",
    "\n",
    "**The order of the conditions within `if-elif-else` statements is fundamental** if the conditions are **not mutually exclusive**. [Mutual exclusivity](https://en.wikipedia.org/wiki/Mutual_exclusivity) means that both conditions cannot be true at the same time. This is **extremely important** and should always be kept in mind. Changing the order will most probably change the outcome. If we change the order of the conditions of the example above:"
   ]
  },
  {
   "cell_type": "code",
   "execution_count": 40,
   "metadata": {},
   "outputs": [
    {
     "name": "stdout",
     "output_type": "stream",
     "text": [
      "Larger than 100\n"
     ]
    }
   ],
   "source": [
    "number = 999\n",
    "how_large = \"Large Number\"\n",
    "\n",
    "if number > 100: # order changed\n",
    "    how_large = \"Larger than 100\"\n",
    "elif number > 50: # order changed\n",
    "    how_large = \"Larger than 50\"\n",
    "else:\n",
    "    how_large = \"Smaller than or equal to 50\"\n",
    "    \n",
    "print(how_large)"
   ]
  },
  {
   "cell_type": "markdown",
   "metadata": {},
   "source": [
    "The value of `how_large` is now `\"Larger than 100\"` because the first `True` condition is `number > 100`. If the conditions are mutually exclusive, the order doesn't impact the results."
   ]
  },
  {
   "cell_type": "markdown",
   "metadata": {},
   "source": [
    "### Nested `if` statements"
   ]
  },
  {
   "cell_type": "markdown",
   "metadata": {},
   "source": [
    "The activity that you'll do on a given day does not depend exclusively on the weather. There are a ton of factors to consider like the hour of the day. You can use the comparison operators and create more complex conditions that take these factors into account.\n",
    "\n",
    "Take these `if`-`elif` statements as an example:"
   ]
  },
  {
   "cell_type": "code",
   "execution_count": 41,
   "metadata": {},
   "outputs": [
    {
     "name": "stdout",
     "output_type": "stream",
     "text": [
      "What should I do today?\n",
      "I'm going to the movies.\n",
      "It is decided then!\n"
     ]
    }
   ],
   "source": [
    "weather = \"Sunny\"\n",
    "hour_day = 21\n",
    "print(\"What should I do today?\")\n",
    "\n",
    "if weather == \"Sunny\" and hour_day < 19:\n",
    "    print(\"I'm going for a walk.\") \n",
    "elif weather == \"Sunny\" and hour_day >= 19:\n",
    "    print(\"I'm going to the movies.\")    \n",
    "elif weather == \"Rainy\" and hour_day > 14:\n",
    "    print(\"I'm going to stay at home.\")\n",
    "elif weather == \"Rainy\" and hour_day <= 14:\n",
    "    print(\"I'm going shopping.\")\n",
    "\n",
    "print(\"It is decided then!\")"
   ]
  },
  {
   "cell_type": "markdown",
   "metadata": {},
   "source": [
    "This *cascade* of `elif` conditions can be a bit hard to read and more so to modify. One of the aphorisms of [The Zen of Python](https://www.python.org/dev/peps/pep-0020/#id2) is that *Readability counts.*\n",
    "\n",
    "The code above can be represented by the *flowchart*:"
   ]
  },
  {
   "cell_type": "markdown",
   "metadata": {},
   "source": [
    "<img src=\"./media/elif_diagram_v2_small.jpg\" />"
   ]
  },
  {
   "cell_type": "markdown",
   "metadata": {},
   "source": [
    "The `if-elif` statements (within the red box) use the input data to test the first condition. If the condition is `True` then the respective code is executed; if the condition is `False` then the second condition is tested. This is repeated until the last `elif` statement. Note that all conditions test both the weather status and the hour **simultaneously**."
   ]
  },
  {
   "cell_type": "markdown",
   "metadata": {},
   "source": [
    "---"
   ]
  },
  {
   "cell_type": "markdown",
   "metadata": {},
   "source": [
    "As we have seen before, you can write any expression inside an `if` statement. This includes other `if` statements.\n",
    "To make the `if`-`elif` statement above more palatable we can introduce `if` statements inside other `if` statements. This process is known as **nesting**. "
   ]
  },
  {
   "cell_type": "code",
   "execution_count": 42,
   "metadata": {},
   "outputs": [
    {
     "name": "stdout",
     "output_type": "stream",
     "text": [
      "What should I do today?\n",
      "I'm going to stay at home.\n",
      "It is decided then!\n"
     ]
    }
   ],
   "source": [
    "weather = \"Rainy\"\n",
    "hour_day = 15\n",
    "print(\"What should I do today?\")\n",
    "\n",
    "if weather == \"Sunny\":\n",
    "#A\n",
    "    if hour_day < 19:\n",
    "        print(\"I'm going for a walk.\")    \n",
    "    else:\n",
    "        print(\"I'm going to the movies.\")\n",
    "#B\n",
    "\n",
    "elif weather == \"Rainy\":\n",
    "#C    \n",
    "    if hour_day > 14:\n",
    "        print(\"I'm going to stay at home.\")\n",
    "    else:\n",
    "        print(\"I'm going shopping.\")\n",
    "#D\n",
    "print(\"It is decided then!\")"
   ]
  },
  {
   "cell_type": "markdown",
   "metadata": {},
   "source": [
    "The first `if` statement tests if the weather is `\"Sunny\"`. If it is `True` than the code between point `A` and `B` is executed. If it is `False`, the code between `A` and `B` is ignored and the `elif` statement is evaluated. Then if the `elif` condition is `True` the code between `C` and `D` is executed. If the condition is `False` then the code between `C` and `D` is ignored."
   ]
  },
  {
   "cell_type": "markdown",
   "metadata": {},
   "source": [
    "See that now the code to be executed is **indented once** in relation to the `if` immediately above and **twice** in relation to the first `if` statement. It has to be absolutely clear that the **indentation is vital** to construct well defined `if` statements. \n",
    "\n",
    "Not respecting the indentation will lead to **wrong results** or **IndentationErrors**."
   ]
  },
  {
   "cell_type": "markdown",
   "metadata": {},
   "source": [
    "The code becomes a lot more readable and you don't have to copy and modify the conditions over and over again to write the whole expression. Also notice that every `else` statement is paired with the `if` **above** at the **same level of indentation**. "
   ]
  },
  {
   "cell_type": "markdown",
   "metadata": {},
   "source": [
    "---"
   ]
  },
  {
   "cell_type": "markdown",
   "metadata": {},
   "source": [
    "The code above can be represented by the *flowchart*:"
   ]
  },
  {
   "cell_type": "markdown",
   "metadata": {},
   "source": [
    "<img src=\"./media/nested_diagram_v2_small.jpg\" />"
   ]
  },
  {
   "cell_type": "markdown",
   "metadata": {},
   "source": [
    "In this flowchart, the red box represents the `if` and `elif` statements that have no indentation. The orange box represents the `if`-`else` statements with one level of indentation. The statements are organized in such a way that each indentation tests only one variable at a time. The red box only tests the weather status and the orange box only tests the hour."
   ]
  },
  {
   "cell_type": "markdown",
   "metadata": {},
   "source": [
    "Nesting is particularly useful if certain values are not known when the first condition is evaluated. This allows the code to process data and later test additional conditions."
   ]
  },
  {
   "cell_type": "markdown",
   "metadata": {},
   "source": [
    "---"
   ]
  },
  {
   "cell_type": "markdown",
   "metadata": {},
   "source": [
    "An additional feature of the `if`-`elif`-`else` statements is that, if the code to execute has a **single instruction**, the instruction can be written right after the colon `:`. But, as you can see in the example below, it does not look good and can be misinterpreted, so I recommend that you **avoid** this style."
   ]
  },
  {
   "cell_type": "code",
   "execution_count": 43,
   "metadata": {},
   "outputs": [
    {
     "name": "stdout",
     "output_type": "stream",
     "text": [
      "What should I do today?\n",
      "I'm going to stay at home.\n",
      "It is decided then!\n"
     ]
    }
   ],
   "source": [
    "weather = \"Rainy\"\n",
    "hour_day = 15\n",
    "print(\"What should I do today?\")\n",
    "\n",
    "if weather == \"Sunny\":    \n",
    "    if hour_day < 19: print(\"I'm going for a walk.\")    \n",
    "    else: print(\"I'm going to the movies.\")\n",
    "elif weather == \"Rainy\":\n",
    "    if hour_day > 14: print(\"I'm going to stay at home.\")\n",
    "    else: print(\"I'm going shopping.\")\n",
    "\n",
    "print(\"It is decided then!\")"
   ]
  },
  {
   "cell_type": "markdown",
   "metadata": {},
   "source": [
    "---"
   ]
  },
  {
   "cell_type": "markdown",
   "metadata": {},
   "source": [
    "### Comparing with `True` and `False`"
   ]
  },
  {
   "cell_type": "markdown",
   "metadata": {},
   "source": [
    "You shouldn't compare booleans values to `True` or `False` ([One of the PEP8 recommendations](https://www.python.org/dev/peps/pep-0008/#id51)). It is redundant and may lead to unwanted results if misused.\n",
    "\n",
    "A statement like:\n",
    "\n",
    "```python\n",
    "if condition == True:\n",
    "```\n",
    "\n",
    "should be written as:\n",
    "\n",
    "```python\n",
    "if condition:\n",
    "```\n",
    "\n",
    "The same way:\n",
    "\n",
    "```python\n",
    "if condition == False:\n",
    "```\n",
    "\n",
    "can be written as:\n",
    "\n",
    "```python\n",
    "if not condition:\n",
    "```\n"
   ]
  },
  {
   "cell_type": "markdown",
   "metadata": {},
   "source": [
    "---"
   ]
  },
  {
   "cell_type": "markdown",
   "metadata": {},
   "source": [
    "### Further reading"
   ]
  },
  {
   "cell_type": "markdown",
   "metadata": {},
   "source": [
    "[W3School on conditionals](https://www.w3schools.com/python/python_conditions.asp)\n",
    "\n",
    "[Programiz on flow control](https://www.programiz.com/python-programming/if-elif-else)\n",
    "\n",
    "[GeeksforGeeks on conditionals](https://www.geeksforgeeks.org/decision-making-python-else-nested-elif/?ref=lbp)"
   ]
  }
 ],
 "metadata": {
  "kernelspec": {
   "display_name": "Python 3 (ipykernel)",
   "language": "python",
   "name": "python3"
  },
  "language_info": {
   "codemirror_mode": {
    "name": "ipython",
    "version": 3
   },
   "file_extension": ".py",
   "mimetype": "text/x-python",
   "name": "python",
   "nbconvert_exporter": "python",
   "pygments_lexer": "ipython3",
   "version": "3.7.10"
  }
 },
 "nbformat": 4,
 "nbformat_minor": 2
}
